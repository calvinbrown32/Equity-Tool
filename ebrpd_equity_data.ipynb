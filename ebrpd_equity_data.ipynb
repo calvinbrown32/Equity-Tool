{
 "cells": [
  {
   "cell_type": "code",
   "execution_count": 858,
   "metadata": {},
   "outputs": [
    {
     "data": {
      "text/plain": [
       "'\\nTO DO \\n-Clean up Script\\n-Turn Script into function\\n-Further simplify/aggregate countywide stat excel outputs. \\n\\n\\n'"
      ]
     },
     "execution_count": 858,
     "metadata": {},
     "output_type": "execute_result"
    }
   ],
   "source": [
    "\"\"\"\n",
    "This script downloads census data exports county level data to an excel file and tract level data to shapefiles.\n",
    "Other notes: \n",
    "This script will be built out to include all relevant census variables. \n",
    "Environment is based off of Pin-Up environment. Jupytext and o\n",
    "\"\"\"\n",
    "\n",
    "\"\"\"\n",
    "TO DO \n",
    "-Clean up Script\n",
    "-Turn Script into function\n",
    "-Further simplify/aggregate countywide stat excel outputs. \n",
    "\n",
    "\n",
    "\"\"\""
   ]
  },
  {
   "cell_type": "code",
   "execution_count": 859,
   "metadata": {},
   "outputs": [],
   "source": [
    "#import necessary libraries\n",
    "\n",
    "import requests\n",
    "import pandas as pd\n",
    "import geopandas as gpd\n",
    "import numpy as np\n",
    "# import geojson\n",
    "import folium\n",
    "import os\n"
   ]
  },
  {
   "cell_type": "code",
   "execution_count": 1091,
   "metadata": {},
   "outputs": [],
   "source": [
    "# FIPS CODES\n",
    "Alameda = \"001\"\n",
    "Contra_Costa = \"013\"\n",
    "Solano = \"095\"\n",
    "San_Francisco = \"075\"\n",
    "\n"
   ]
  },
  {
   "cell_type": "code",
   "execution_count": 1092,
   "metadata": {},
   "outputs": [],
   "source": [
    "#For each iteration change the county\n",
    "county = Alameda"
   ]
  },
  {
   "cell_type": "code",
   "execution_count": 1093,
   "metadata": {},
   "outputs": [],
   "source": [
    "#Set output filepaths\n",
    "Equity_Tracts = f'/Users/calvindechicago/PycharmProjects/AltaWork/AltaProjects/EBRPD/Equity_Data/equity_tracts_{county}.shp'\n",
    "\n",
    "Transportation_Tracts = '/Users/calvindechicago/PycharmProjects/AltaWork/AltaProjects/EBRPD/Equity_Data/transportation_tracts.shp'\n",
    "\n",
    "Age_Tracts = '/Users/calvindechicago/PycharmProjects/AltaWork/AltaProjects/EBRPD/Equity_Data/tract_age.shp'\n",
    "\n",
    "EXCEL_FP = f'/Users/calvindechicago/PycharmProjects/AltaWork/AltaProjects/EBRPD/Equity_Data/countylevel_demographics_{county}.xlsx'"
   ]
  },
  {
   "cell_type": "code",
   "execution_count": 1094,
   "metadata": {},
   "outputs": [],
   "source": [
    "#These are all of the main variables used to build a call url to the the census api website\n",
    "#Available APIs (--> 2018 ACS Detailed Tables Variables [ html | xml | json ])\n",
    "#https://www.census.gov/data/developers/data-sets.html\n",
    "\n",
    "HOST = \"https://api.census.gov/data\"\n",
    "year = \"2018\"\n",
    "#dataset = \"acs/acs5/subject\"\n",
    "dataset = \"acs/acs5\"\n",
    "api_key = \"f9e79198302081250c07d556f35d8a81cdae528a\"\n",
    "base_url = \"/\".join([HOST, year, dataset,])"
   ]
  },
  {
   "cell_type": "code",
   "execution_count": 1095,
   "metadata": {},
   "outputs": [],
   "source": [
    "# Setup request for Table B08006: Sex of Workers by Means of Transportation to Work\n",
    "# Setup request for Table B08014: SEX OF WORKERS BY VEHICLES AVAILABLE (Total and No vehicle columns only)\n",
    "# (COUNTY LEVEL)\n",
    "request_predicates = {}\n",
    "get_vars_transpo_mode = [\"NAME\",\"B08006_001E\",\"B08006_002E\",\"B08006_003E\", \"B08006_004E\",\n",
    "                         \"B08006_008E\",\"B08006_014E\",\"B08006_015E\",\"B08006_016E\", \n",
    "                         \"B08006_017E\", \"GEO_ID\", \"B08014_001E\", \"B08014_002E\" \n",
    "                        ]\n",
    "col_names_transpo_mode = [\"place_name\", \"total\",\"total_car_truck_van\",\n",
    "                          \"car_truck_van_drove_alone\",\"car_truck_van_carpooled\",\n",
    "                          \"public_transportation\", \"bike\", \"walk\", \"taxi_moto_other\",\n",
    "                          \"work_from_home\",\"geoid\", \"total_workers\", \"no_vehicle\",\n",
    "                          \"state_code\", \"county\"\n",
    "                         ]\n",
    "\n",
    "request_predicates[\"key\"] = api_key\n",
    "request_predicates[\"get\"] = \",\".join(get_vars_transpo_mode)\n",
    "\n",
    "\n",
    "#THESE PREDICATES GET AGGREGATE TOTALS FOR ENTIRE COUNTY (SACRAMENTO)\n",
    "#request_predicates[\"for\"] = \"county:067\" #Sacramento\n",
    "request_predicates[\"for\"] = f\"county:{county}\"  \n",
    "request_predicates[\"in\"] = \"state:06\"\n",
    "\n",
    "transpo_mode_county = requests.get(base_url, params=request_predicates)\n",
    "num_columns = 15"
   ]
  },
  {
   "cell_type": "code",
   "execution_count": 1096,
   "metadata": {},
   "outputs": [],
   "source": [
    "#Setting up Means of Transportation to Workdata frame, getting rid of first header row\n",
    "df_transpo_mode_county = pd.DataFrame(columns=col_names_transpo_mode, data=transpo_mode_county.json()[1:])"
   ]
  },
  {
   "cell_type": "code",
   "execution_count": 1097,
   "metadata": {},
   "outputs": [],
   "source": [
    "# THESE PREDICATES GET DATA FOR EVERY TRACT in County\n",
    "# These revised predicates replace the 'for' and 'in' predicates above.\n",
    "#(TRACT LEVEL)\n",
    "\n",
    "request_predicates[\"for\"] = \"tract:*\"\n",
    "#request_predicates[\"in\"] = \"state:06+county:067\"\n",
    "request_predicates[\"in\"] = f\"state:06+county:{county}\"\n",
    "\n",
    "transpo_mode_tracts = requests.get(base_url, params=request_predicates)\n",
    "\n"
   ]
  },
  {
   "cell_type": "code",
   "execution_count": 1098,
   "metadata": {},
   "outputs": [],
   "source": [
    "#Setting up Means of Transportation to Work at Tract Level data frame, getting rid of first header row\n",
    "#This includes appending 'tract' to columns list\n",
    "col_names_transpo_mode = [\"place_name\", \"total\",\"total_car_truck_van\",\n",
    "                          \"car_truck_van_drove_alone\",\"car_truck_van_carpooled\",\n",
    "                          \"public_transportation\", \"bike\", \"walk\", \"taxi_moto_other\",\n",
    "                          \"work_from_home\",\"geoid\", \"total_workers\", \"no_vehicle\",\"state_code\",\n",
    "                          \"county\", \"tract\" \n",
    "                         ]\n",
    "df_transpo_mode_tracts = pd.DataFrame(columns=col_names_transpo_mode, data=transpo_mode_tracts.json()[1:])\n",
    "num_columns = 16"
   ]
  },
  {
   "cell_type": "code",
   "execution_count": 1099,
   "metadata": {},
   "outputs": [],
   "source": [
    "dtype_conversion = { \"total\": int,\n",
    "                    \"total_car_truck_van\": int,\n",
    "                    \"car_truck_van_drove_alone\": int,\n",
    "                    \"car_truck_van_carpooled\": int,\n",
    "                    \"public_transportation\": int,\n",
    "                    \"bike\": int,\n",
    "                    \"walk\": int, \n",
    "                    \"taxi_moto_other\": int, \n",
    "                    \"work_from_home\": int, \n",
    "                    \"total_workers\": int, \n",
    "                    \"no_vehicle\": int\n",
    "                }\n",
    "\n",
    "df_transpo_mode_tracts = df_transpo_mode_tracts.astype(dtype_conversion) "
   ]
  },
  {
   "cell_type": "code",
   "execution_count": 1100,
   "metadata": {},
   "outputs": [],
   "source": [
    "df_transpo_mode_tracts[\"pct_no_veh\"] = (df_transpo_mode_tracts[\"no_vehicle\"]/df_transpo_mode_tracts[\"total_workers\"]*100)"
   ]
  },
  {
   "cell_type": "code",
   "execution_count": 1101,
   "metadata": {},
   "outputs": [],
   "source": [
    "#The geoid field in the df_transpo_mode table does not match the Tigerlines geoid field. \n",
    "#This slices the the right 11 most digits, which match the geoid codes in the TigerLine file. \n",
    "#(... these are state ('06') for California, followed by county, followed by census tract)\n",
    "\n",
    "df_transpo_mode_tracts.insert(num_columns, \"geoid_join\",df_transpo_mode_tracts['geoid'].str.slice(-11), True) \n",
    "\n"
   ]
  },
  {
   "cell_type": "code",
   "execution_count": 1102,
   "metadata": {},
   "outputs": [],
   "source": [
    "## SETUP FOR TABLE B08001: SEX BY AGE\n",
    "#NAME dropped from request because only 50 variables per request are permitted.\n",
    "request_predicates = {}\n",
    "get_vars_age = [\"B01001_001E\", \"B01001_002E\",\"B01001_003E\", \"B01001_004E\",\"B01001_005E\", \n",
    "                \"B01001_006E\", \"B01001_007E\",\"B01001_008E\", \"B01001_009E\",\"B01001_010E\", \n",
    "                \"B01001_011E\", \"B01001_012E\",\"B01001_013E\", \"B01001_014E\",\"B01001_015E\", \n",
    "                \"B01001_016E\", \"B01001_017E\",\"B01001_018E\", \"B01001_019E\",\"B01001_020E\", \n",
    "                \"B01001_021E\", \"B01001_022E\",\"B01001_023E\", \"B01001_024E\",\"B01001_025E\", \n",
    "                \"B01001_026E\", \"B01001_027E\",\"B01001_028E\", \"B01001_029E\",\"B01001_030E\", \n",
    "                \"B01001_031E\", \"B01001_032E\",\"B01001_033E\", \"B01001_034E\",\"B01001_035E\", \n",
    "                \"B01001_036E\", \"B01001_037E\",\"B01001_038E\", \"B01001_039E\",\"B01001_040E\", \n",
    "                \"B01001_041E\", \"B01001_042E\",\"B01001_043E\", \"B01001_044E\",\"B01001_045E\", \n",
    "                \"B01001_046E\", \"B01001_047E\",\"B01001_048E\", \"B01001_049E\",\"GEO_ID\"\n",
    "                ]\n",
    "\n",
    "col_names_age = [\"total_pop\",\"total_male\",\"tl_m0_5\",\"tl_m5_9\", \"tl_m10_14\", \"tl_m15_17\", \n",
    "                 \"tl_m18_19\", \"tl_m20\", \"tl_m21\", \"tl_m22_24\", \"tl_m25_29\", \"tl_m30_34\",\n",
    "                 \"tl_m35_39\", \"tl_m40_44\", \"tl_m45_49\", \"tl_m50_54\", \"tl_m55_59\", \"tl_m60_61\",\n",
    "                 \"tl_m62_64\", \"tl_m65_66\", \"tl_m67_69\", \"tl_m70_74\", \"tl_m75_79\", \"tl_m80_84\",\n",
    "                 \"tl_m85_pl\",\"total_female\", \"tl_f0_5\",\"tl_f5_9\", \"tl_f10_14\", \"tl_f15_17\", \n",
    "                 \"tl_f18_19\", \"tl_f20\", \"tl_f21\", \"tl_f22_24\", \"tl_f25_29\", \"tl_f30_34\",\n",
    "                 \"tl_f35_39\", \"tl_f40_44\", \"tl_f45_49\", \"tl_f50_54\", \"tl_f55_59\", \"tl_f60_61\",\n",
    "                 \"tl_f62_64\", \"tl_f65_66\", \"tl_f67_69\", \"tl_f70_74\", \"tl_f75_79\", \"tl_f80_84\",\n",
    "                 \"tl_f85_pl\",\"geoid\",\"state\",\"county\"\n",
    "                ]\n",
    "\n",
    "request_predicates[\"key\"] = api_key\n",
    "request_predicates[\"get\"] = \",\".join(get_vars_age)\n",
    "\n",
    "#THESE PREDICATES GET AGGREGATE TOTALS FOR ENTIRE COUNTY (SACRAMENTO)\n",
    "request_predicates[\"for\"] = f\"county:{county}\"\n",
    "request_predicates[\"in\"] = \"state:06\"\n",
    "\n",
    "\n",
    "age_county = requests.get(base_url, params=request_predicates)\n",
    "num_columns = 49"
   ]
  },
  {
   "cell_type": "code",
   "execution_count": 1103,
   "metadata": {},
   "outputs": [],
   "source": [
    "#Setting up AGE data frame, getting rid of first header row\n",
    "df_age_county = pd.DataFrame(columns=col_names_age, data=age_county.json()[1:])"
   ]
  },
  {
   "cell_type": "code",
   "execution_count": 1104,
   "metadata": {},
   "outputs": [],
   "source": [
    "# THESE PREDICATES GET DATA FOR EVERY TRACT\n",
    "\n",
    "request_predicates[\"for\"] = \"tract:*\"\n",
    "request_predicates[\"in\"] = f\"state:06+county:{county}\"\n",
    "# request_predicates[\"in\"] = \"state:06+county:067\"\n",
    "\n",
    "age_tracts = requests.get(base_url, params=request_predicates)\n",
    "num_columns = 50"
   ]
  },
  {
   "cell_type": "code",
   "execution_count": 1105,
   "metadata": {},
   "outputs": [],
   "source": [
    "#Setting up AGE TRACTS data frame, getting rid of first header row\n",
    "col_names_age = [\"total_pop\",\"total_male\",\"tl_m0_5\",\"tl_m5_9\", \"tl_m10_14\", \"tl_m15_17\", \n",
    "                 \"tl_m18_19\", \"tl_m20\", \"tl_m21\", \"tl_m22_24\", \"tl_m25_29\", \"tl_m30_34\",\n",
    "                 \"tl_m35_39\", \"tl_m40_44\", \"tl_m45_49\", \"tl_m50_54\", \"tl_m55_59\", \"tl_m60_61\",\n",
    "                 \"tl_m62_64\", \"tl_m65_66\", \"tl_m67_69\", \"tl_m70_74\", \"tl_m75_79\", \"tl_m80_84\",\n",
    "                 \"tl_m85_pl\",\"total_female\", \"tl_f0_5\",\"tl_f5_9\", \"tl_f10_14\", \"tl_f15_17\", \n",
    "                 \"tl_f18_19\", \"tl_f20\", \"tl_f21\", \"tl_f22_24\", \"tl_f25_29\", \"tl_f30_34\",\n",
    "                 \"tl_f35_39\", \"tl_f40_44\", \"tl_f45_49\", \"tl_f50_54\", \"tl_f55_59\", \"tl_f60_61\",\n",
    "                 \"tl_f62_64\", \"tl_f65_66\", \"tl_f67_69\", \"tl_f70_74\", \"tl_f75_79\", \"tl_f80_84\",\n",
    "                 \"tl_f85_pl\",\"geoid\",\"state\",\"county\", 'tract'\n",
    "                ]\n",
    "df_age_tracts = pd.DataFrame(columns=col_names_age, data=age_tracts.json()[1:])"
   ]
  },
  {
   "cell_type": "code",
   "execution_count": 1106,
   "metadata": {},
   "outputs": [],
   "source": [
    "# using dictionary to convert specific columns \n",
    "# convert_dict = {'A': int, \n",
    "#                 'C': float\n",
    "#                } \n",
    "  \n",
    "# df = df.astype(convert_dict) \n",
    "# print(df.dtypes) \n",
    "dtype_conversion = { \"total_pop\": int,\n",
    "                    \"total_male\": int,\n",
    "                    \"tl_m0_5\": int,\n",
    "                    \"tl_m5_9\": int,\n",
    "                    \"tl_m10_14\": int,\n",
    "                    \"tl_m15_17\": int,\n",
    "                    \"tl_m18_19\": int, \n",
    "                    \"tl_m20\": int, \n",
    "                    \"tl_m21\": int, \n",
    "                    \"tl_m22_24\": int, \n",
    "                    \"tl_m25_29\": int, \n",
    "                    \"tl_m30_34\": int,\n",
    "                    \"tl_m35_39\": int, \n",
    "                    \"tl_m40_44\": int, \n",
    "                    \"tl_m45_49\": int, \n",
    "                    \"tl_m50_54\": int, \n",
    "                    \"tl_m55_59\": int, \n",
    "                    \"tl_m60_61\": int,\n",
    "                    \"tl_m62_64\": int, \n",
    "                    \"tl_m65_66\": int, \n",
    "                    \"tl_m67_69\": int, \n",
    "                    \"tl_m70_74\": int, \n",
    "                    \"tl_m75_79\": int, \n",
    "                    \"tl_m80_84\": int,\n",
    "                    \"tl_m85_pl\": int,\n",
    "                    \"total_female\": int, \n",
    "                    \"tl_f0_5\": int,\n",
    "                    \"tl_f5_9\": int,\n",
    "                    \"tl_f10_14\": int,\n",
    "                    \"tl_f15_17\": int,\n",
    "                    \"tl_f18_19\": int,\n",
    "                    \"tl_f20\": int,\n",
    "                    \"tl_f21\": int,\n",
    "                    \"tl_f22_24\": int,\n",
    "                    \"tl_f25_29\": int,\n",
    "                    \"tl_f30_34\": int,\n",
    "                    \"tl_f35_39\": int,\n",
    "                    \"tl_f40_44\": int,\n",
    "                    \"tl_f45_49\": int,\n",
    "                    \"tl_f50_54\": int,\n",
    "                    \"tl_f55_59\": int,\n",
    "                    \"tl_f60_61\": int,\n",
    "                    \"tl_f62_64\": int,\n",
    "                    \"tl_f65_66\": int,\n",
    "                    \"tl_f67_69\": int,\n",
    "                    \"tl_f70_74\": int,\n",
    "                    \"tl_f75_79\": int,\n",
    "                    \"tl_f80_84\": int,\n",
    "                    \"tl_f85_pl\": int,\n",
    "                    \"county\": int,\n",
    "                    'tract': int\n",
    "                }\n",
    "df_age_tracts = df_age_tracts.astype(dtype_conversion) "
   ]
  },
  {
   "cell_type": "code",
   "execution_count": 1107,
   "metadata": {},
   "outputs": [],
   "source": [
    "age_18_under = df_age_tracts[\"tl_m0_5\"] + df_age_tracts[\"tl_f0_5\"] + df_age_tracts[\"tl_m5_9\"] + df_age_tracts[\"tl_m10_14\"] + df_age_tracts[\"tl_m15_17\"] + df_age_tracts[\"tl_f5_9\"] + df_age_tracts[\"tl_f10_14\"] + df_age_tracts[\"tl_f15_17\"]\n",
    "\n",
    "age_65_over = df_age_tracts[\"tl_f65_66\"] + df_age_tracts[\"tl_f67_69\"] + df_age_tracts[\"tl_f70_74\"] + df_age_tracts[\"tl_f75_79\"] + df_age_tracts[\"tl_f80_84\"] + df_age_tracts[\"tl_f85_pl\"] + df_age_tracts[\"tl_m65_66\"] + df_age_tracts[\"tl_m67_69\"] + df_age_tracts[\"tl_m70_74\"] + df_age_tracts[\"tl_m75_79\"] + df_age_tracts[\"tl_m80_84\"] + df_age_tracts[\"tl_m85_pl\"]\n",
    "\n",
    "age_vulnerable = age_18_under + age_65_over\n",
    "\n"
   ]
  },
  {
   "cell_type": "code",
   "execution_count": 1108,
   "metadata": {},
   "outputs": [],
   "source": [
    "df_age_tracts[\"age_18_under\"] = age_18_under \n",
    "df_age_tracts[\"age_65_over\"] = age_65_over\n",
    "df_age_tracts[\"age_vulnerable\"] = age_vulnerable\n",
    "\n",
    "df_age_tracts[\"pct_age_18_under\"] = df_age_tracts[\"age_18_under\"]/df_age_tracts[\"total_pop\"]*100\n",
    "df_age_tracts[\"pct_age_65_over\"] = df_age_tracts[\"age_65_over\"]/df_age_tracts[\"total_pop\"]*100\n",
    "df_age_tracts[\"pct_age_vulnerable\"] = df_age_tracts[\"age_vulnerable\"]/df_age_tracts[\"total_pop\"]*100\n",
    "\n",
    "\n"
   ]
  },
  {
   "cell_type": "code",
   "execution_count": 1109,
   "metadata": {},
   "outputs": [],
   "source": [
    "df_age_tracts_simple = df_age_tracts[[\"total_pop\",\"age_18_under\",\"age_65_over\",\"age_vulnerable\", \"pct_age_18_under\",\"pct_age_65_over\",\"pct_age_vulnerable\",\"geoid\",\"state\",\"county\",\"tract\"]]"
   ]
  },
  {
   "cell_type": "code",
   "execution_count": 1110,
   "metadata": {},
   "outputs": [
    {
     "data": {
      "text/html": [
       "<div>\n",
       "<style scoped>\n",
       "    .dataframe tbody tr th:only-of-type {\n",
       "        vertical-align: middle;\n",
       "    }\n",
       "\n",
       "    .dataframe tbody tr th {\n",
       "        vertical-align: top;\n",
       "    }\n",
       "\n",
       "    .dataframe thead th {\n",
       "        text-align: right;\n",
       "    }\n",
       "</style>\n",
       "<table border=\"1\" class=\"dataframe\">\n",
       "  <thead>\n",
       "    <tr style=\"text-align: right;\">\n",
       "      <th></th>\n",
       "      <th>total_pop</th>\n",
       "      <th>age_18_under</th>\n",
       "      <th>age_65_over</th>\n",
       "      <th>age_vulnerable</th>\n",
       "      <th>pct_age_18_under</th>\n",
       "      <th>pct_age_65_over</th>\n",
       "      <th>pct_age_vulnerable</th>\n",
       "      <th>geoid</th>\n",
       "      <th>state</th>\n",
       "      <th>county</th>\n",
       "      <th>tract</th>\n",
       "    </tr>\n",
       "  </thead>\n",
       "  <tbody>\n",
       "    <tr>\n",
       "      <th>0</th>\n",
       "      <td>6570</td>\n",
       "      <td>1265</td>\n",
       "      <td>1052</td>\n",
       "      <td>2317</td>\n",
       "      <td>19.254186</td>\n",
       "      <td>16.012177</td>\n",
       "      <td>35.266362</td>\n",
       "      <td>1400000US06001441501</td>\n",
       "      <td>06</td>\n",
       "      <td>1</td>\n",
       "      <td>441501</td>\n",
       "    </tr>\n",
       "    <tr>\n",
       "      <th>1</th>\n",
       "      <td>2079</td>\n",
       "      <td>453</td>\n",
       "      <td>391</td>\n",
       "      <td>844</td>\n",
       "      <td>21.789322</td>\n",
       "      <td>18.807119</td>\n",
       "      <td>40.596441</td>\n",
       "      <td>1400000US06001404700</td>\n",
       "      <td>06</td>\n",
       "      <td>1</td>\n",
       "      <td>404700</td>\n",
       "    </tr>\n",
       "    <tr>\n",
       "      <th>2</th>\n",
       "      <td>7748</td>\n",
       "      <td>1484</td>\n",
       "      <td>795</td>\n",
       "      <td>2279</td>\n",
       "      <td>19.153330</td>\n",
       "      <td>10.260712</td>\n",
       "      <td>29.414042</td>\n",
       "      <td>1400000US06001442500</td>\n",
       "      <td>06</td>\n",
       "      <td>1</td>\n",
       "      <td>442500</td>\n",
       "    </tr>\n",
       "    <tr>\n",
       "      <th>3</th>\n",
       "      <td>5301</td>\n",
       "      <td>1347</td>\n",
       "      <td>472</td>\n",
       "      <td>1819</td>\n",
       "      <td>25.410300</td>\n",
       "      <td>8.903980</td>\n",
       "      <td>34.314280</td>\n",
       "      <td>1400000US06001450300</td>\n",
       "      <td>06</td>\n",
       "      <td>1</td>\n",
       "      <td>450300</td>\n",
       "    </tr>\n",
       "    <tr>\n",
       "      <th>4</th>\n",
       "      <td>5971</td>\n",
       "      <td>1393</td>\n",
       "      <td>795</td>\n",
       "      <td>2188</td>\n",
       "      <td>23.329426</td>\n",
       "      <td>13.314353</td>\n",
       "      <td>36.643778</td>\n",
       "      <td>1400000US06001450607</td>\n",
       "      <td>06</td>\n",
       "      <td>1</td>\n",
       "      <td>450607</td>\n",
       "    </tr>\n",
       "  </tbody>\n",
       "</table>\n",
       "</div>"
      ],
      "text/plain": [
       "   total_pop  age_18_under  age_65_over  age_vulnerable  pct_age_18_under  \\\n",
       "0       6570          1265         1052            2317         19.254186   \n",
       "1       2079           453          391             844         21.789322   \n",
       "2       7748          1484          795            2279         19.153330   \n",
       "3       5301          1347          472            1819         25.410300   \n",
       "4       5971          1393          795            2188         23.329426   \n",
       "\n",
       "   pct_age_65_over  pct_age_vulnerable                 geoid state  county  \\\n",
       "0        16.012177           35.266362  1400000US06001441501    06       1   \n",
       "1        18.807119           40.596441  1400000US06001404700    06       1   \n",
       "2        10.260712           29.414042  1400000US06001442500    06       1   \n",
       "3         8.903980           34.314280  1400000US06001450300    06       1   \n",
       "4        13.314353           36.643778  1400000US06001450607    06       1   \n",
       "\n",
       "    tract  \n",
       "0  441501  \n",
       "1  404700  \n",
       "2  442500  \n",
       "3  450300  \n",
       "4  450607  "
      ]
     },
     "execution_count": 1110,
     "metadata": {},
     "output_type": "execute_result"
    }
   ],
   "source": [
    "df_age_tracts_simple.head(5)"
   ]
  },
  {
   "cell_type": "code",
   "execution_count": 1111,
   "metadata": {},
   "outputs": [],
   "source": [
    "#Add geoid_join column \n",
    "df_age_tracts_simple.insert(8, \"geoid_join\",df_transpo_mode_tracts['geoid'].str.slice(-11), True) \n"
   ]
  },
  {
   "cell_type": "code",
   "execution_count": 1112,
   "metadata": {},
   "outputs": [],
   "source": [
    "#B19013 Median Household Income - TRACT\n",
    "\n",
    "# THESE PREDICATES GET DATA FOR EVERY TRACT\n",
    "#NAME dropped from request because only 50 variables per request are permitted.\n",
    "request_predicates = {}\n",
    "get_vars_mhi = [\"NAME\",\"B19013_001E\", \"GEO_ID\"\n",
    "                ]\n",
    "\n",
    "col_names_mhi = [\"place_name\", \"mhi\",\n",
    "                 \"geoid\",\"state\",\"county\", \"tract\"\n",
    "                ]\n",
    "\n",
    "request_predicates[\"key\"] = api_key\n",
    "request_predicates[\"get\"] = \",\".join(get_vars_mhi)\n",
    "\n",
    "\n",
    "\n",
    "request_predicates[\"for\"] = \"tract:*\"\n",
    "request_predicates[\"in\"] = f\"state:06+county:{county}\"\n",
    "# request_predicates[\"in\"] = \"state:06+county:067\"\n",
    "\n",
    "mhi_tracts = requests.get(base_url, params=request_predicates)\n",
    "num_columns = 50\n",
    "\n"
   ]
  },
  {
   "cell_type": "code",
   "execution_count": 1113,
   "metadata": {},
   "outputs": [],
   "source": [
    "#B19013 Median Household Income - COUNTY\n",
    "\n",
    "request_predicates = {}\n",
    "get_vars_mhi_county = [\"NAME\",\"B19013_001E\", \"GEO_ID\"\n",
    "                ]\n",
    "\n",
    "col_names_mhi_county = [\"place_name\", \"mhi\",\n",
    "                 \"geoid\",\"state\",\"county\"\n",
    "                ]\n",
    "\n",
    "request_predicates[\"key\"] = api_key\n",
    "request_predicates[\"get\"] = \",\".join(get_vars_mhi_county)\n",
    "\n",
    "\n",
    "#THESE PREDICATES GET AGGREGATE TOTALS FOR ENTIRE COUNTY (SACRAMENTO)\n",
    "#request_predicates[\"for\"] = \"county:067\" #Sacramento\n",
    "request_predicates[\"for\"] = f\"county:{county}\"  \n",
    "request_predicates[\"in\"] = \"state:06\"\n",
    "\n",
    "mhi_county = requests.get(base_url, params=request_predicates)\n",
    "num_columns = 15"
   ]
  },
  {
   "cell_type": "code",
   "execution_count": 1114,
   "metadata": {},
   "outputs": [
    {
     "name": "stdout",
     "output_type": "stream",
     "text": [
      "<Response [200]>\n"
     ]
    }
   ],
   "source": [
    "print(mhi_tracts_county)"
   ]
  },
  {
   "cell_type": "code",
   "execution_count": 1115,
   "metadata": {},
   "outputs": [],
   "source": [
    "df_mhi_county = pd.DataFrame(columns=col_names_mhi_county, data=mhi_county.json()[1:])"
   ]
  },
  {
   "cell_type": "code",
   "execution_count": 1116,
   "metadata": {},
   "outputs": [
    {
     "data": {
      "text/html": [
       "<div>\n",
       "<style scoped>\n",
       "    .dataframe tbody tr th:only-of-type {\n",
       "        vertical-align: middle;\n",
       "    }\n",
       "\n",
       "    .dataframe tbody tr th {\n",
       "        vertical-align: top;\n",
       "    }\n",
       "\n",
       "    .dataframe thead th {\n",
       "        text-align: right;\n",
       "    }\n",
       "</style>\n",
       "<table border=\"1\" class=\"dataframe\">\n",
       "  <thead>\n",
       "    <tr style=\"text-align: right;\">\n",
       "      <th></th>\n",
       "      <th>place_name</th>\n",
       "      <th>mhi</th>\n",
       "      <th>geoid</th>\n",
       "      <th>state</th>\n",
       "      <th>county</th>\n",
       "    </tr>\n",
       "  </thead>\n",
       "  <tbody>\n",
       "    <tr>\n",
       "      <th>0</th>\n",
       "      <td>Alameda County, California</td>\n",
       "      <td>92574</td>\n",
       "      <td>0500000US06001</td>\n",
       "      <td>06</td>\n",
       "      <td>001</td>\n",
       "    </tr>\n",
       "  </tbody>\n",
       "</table>\n",
       "</div>"
      ],
      "text/plain": [
       "                   place_name    mhi           geoid state county\n",
       "0  Alameda County, California  92574  0500000US06001    06    001"
      ]
     },
     "execution_count": 1116,
     "metadata": {},
     "output_type": "execute_result"
    }
   ],
   "source": [
    "df_mhi_county"
   ]
  },
  {
   "cell_type": "code",
   "execution_count": 1117,
   "metadata": {},
   "outputs": [],
   "source": [
    "#Setting up AGE data frame, getting rid of first header row\n",
    "df_mhi = pd.DataFrame(columns=col_names_mhi, data=mhi_tracts.json()[1:])"
   ]
  },
  {
   "cell_type": "code",
   "execution_count": 1118,
   "metadata": {},
   "outputs": [],
   "source": [
    "df_mhi.insert(6, \"geoid_join\",df_mhi['geoid'].str.slice(-11), True) \n"
   ]
  },
  {
   "cell_type": "code",
   "execution_count": 1119,
   "metadata": {},
   "outputs": [],
   "source": [
    "\n",
    "df_age_simplified = df_age_tracts_simple[['total_pop', 'age_18_under', 'age_65_over', 'age_vulnerable',\n",
    "       'pct_age_18_under', 'pct_age_65_over', 'pct_age_vulnerable',\n",
    "       'geoid_join']]\n"
   ]
  },
  {
   "cell_type": "code",
   "execution_count": 1120,
   "metadata": {},
   "outputs": [],
   "source": [
    "\n",
    "#df_transpo_mode_tracts\n",
    "df_mhi_simplified = df_mhi[['mhi','geoid_join']]"
   ]
  },
  {
   "cell_type": "code",
   "execution_count": 1121,
   "metadata": {},
   "outputs": [],
   "source": [
    "# Concatenate all Equity geodataframes\n",
    "# In [4]: frames = [df1, df2, df3]\n",
    "# In [5]: result = pd.concat(frames)\n",
    "\n",
    "transpo_mhi = pd.merge(df_transpo_mode_tracts, df_mhi_simplified, on=\"geoid_join\")\n",
    "\n",
    "\n",
    "\n"
   ]
  },
  {
   "cell_type": "code",
   "execution_count": 1122,
   "metadata": {},
   "outputs": [],
   "source": [
    "transpo_mhi_age = pd.merge(transpo_mhi,df_age_simplified,  on= \"geoid_join\" )\n"
   ]
  },
  {
   "cell_type": "code",
   "execution_count": 1123,
   "metadata": {},
   "outputs": [],
   "source": [
    "# Join the census data to Tigerline Cartographic Boundary census tract geometries. \n",
    "# Census Tract Tigerline California Census Tracts location (ftp url included in notes below)\n",
    "\n",
    "census_tracts_shp = '/Users/calvindechicago/PycharmProjects/AltaWork/automated_census_mapping/cb_2018_06_tract_500k/cb_2018_06_tract_500k.shp'\n",
    "# Verify that filepath is correct\n",
    "os.path.isfile(census_tracts_shp)\n",
    "\n",
    "#This reads the census tracts shapefile into a geodataframe\n",
    "gdf = gpd.read_file(census_tracts_shp)\n",
    "\n",
    "#Make tigerline boundary columns lowercase\n",
    "gdf.columns = map(str.lower, gdf.columns)\n"
   ]
  },
  {
   "cell_type": "code",
   "execution_count": 1124,
   "metadata": {},
   "outputs": [],
   "source": [
    "final_equity_geom = gdf.merge(transpo_mhi_age,left_on='geoid',right_on='geoid_join')\n"
   ]
  },
  {
   "cell_type": "code",
   "execution_count": 1125,
   "metadata": {},
   "outputs": [
    {
     "name": "stdout",
     "output_type": "stream",
     "text": [
      "<class 'geopandas.geodataframe.GeoDataFrame'>\n"
     ]
    }
   ],
   "source": [
    "print(type(final_equity_geom))"
   ]
  },
  {
   "cell_type": "code",
   "execution_count": 1126,
   "metadata": {},
   "outputs": [],
   "source": [
    "#final_equity_geom.dtypes"
   ]
  },
  {
   "cell_type": "code",
   "execution_count": 1127,
   "metadata": {},
   "outputs": [],
   "source": [
    "calenviroscreen = '/Users/calvindechicago/PycharmProjects/AltaWork/automated_census_mapping/CESJune2018Update_SHP/CES3June2018Update.shp'\n",
    "\n",
    "#This reads the CalEnviroScreen tracts shapefile into a geodataframe\n",
    "ces_gdf = gpd.read_file(calenviroscreen)\n"
   ]
  },
  {
   "cell_type": "code",
   "execution_count": 1128,
   "metadata": {},
   "outputs": [
    {
     "data": {
      "text/plain": [
       "<Geographic 2D CRS: EPSG:4269>\n",
       "Name: NAD83\n",
       "Axis Info [ellipsoidal]:\n",
       "- Lat[north]: Geodetic latitude (degree)\n",
       "- Lon[east]: Geodetic longitude (degree)\n",
       "Area of Use:\n",
       "- name: North America - NAD83\n",
       "- bounds: (167.65, 14.92, -47.74, 86.46)\n",
       "Datum: North American Datum 1983\n",
       "- Ellipsoid: GRS 1980\n",
       "- Prime Meridian: Greenwich"
      ]
     },
     "execution_count": 1128,
     "metadata": {},
     "output_type": "execute_result"
    }
   ],
   "source": [
    "final_equity_geom.crs"
   ]
  },
  {
   "cell_type": "code",
   "execution_count": 1129,
   "metadata": {},
   "outputs": [
    {
     "data": {
      "text/plain": [
       "Index(['tract', 'pop2010', 'California', 'ZIP', 'City', 'Longitude',\n",
       "       'Latitude', 'CIscore', 'CIscoreP', 'ozone', 'ozoneP', 'pm', 'pmP',\n",
       "       'diesel', 'dieselP', 'drink', 'drinkP', 'pest', 'pestP', 'RSEIhaz',\n",
       "       'RSEIhazP', 'traffic', 'trafficP', 'cleanups', 'cleanupsP', 'gwthreats',\n",
       "       'gwthreatsP', 'haz', 'hazP', 'iwb', 'iwbP', 'swis', 'swisP',\n",
       "       'Pollution', 'PollutionS', 'PollutionP', 'asthma', 'asthmaP', 'lbw',\n",
       "       'lbwP', 'cvd', 'cvdP', 'edu', 'eduP', 'ling', 'lingP', 'pov', 'povP',\n",
       "       'unemp', 'unempP', 'housingB', 'housingBP', 'PopChar', 'PopCharSco',\n",
       "       'PopCharP', 'Children_u', 'Pop_11_64_', 'Elderly_ov', 'Hispanic_p',\n",
       "       'White_pct', 'African_Am', 'Native_Ame', 'Asian_Amer', 'Other_pct',\n",
       "       'OBJECTID_1', 'CIdecile', 'CIvigintil', 'Shape_Leng', 'Shape_Area',\n",
       "       'CES2018_Rn', 'geometry'],\n",
       "      dtype='object')"
      ]
     },
     "execution_count": 1129,
     "metadata": {},
     "output_type": "execute_result"
    }
   ],
   "source": [
    "ces_gdf.columns"
   ]
  },
  {
   "cell_type": "code",
   "execution_count": 1130,
   "metadata": {},
   "outputs": [],
   "source": [
    "#Convert weird CES tract id floats to ints. \n",
    "ces_gdf.tract = ces_gdf.tract.astype(int)"
   ]
  },
  {
   "cell_type": "code",
   "execution_count": 1131,
   "metadata": {},
   "outputs": [],
   "source": [
    "#Now convert new and cleaner integers to strings\n",
    "ces_gdf.tract = ces_gdf.tract.astype(str)"
   ]
  },
  {
   "cell_type": "code",
   "execution_count": 1132,
   "metadata": {},
   "outputs": [],
   "source": [
    "#Append 0 to beginning of each tract id\n",
    "ces_gdf.tract = '0' + ces_gdf.tract"
   ]
  },
  {
   "cell_type": "code",
   "execution_count": 1133,
   "metadata": {},
   "outputs": [
    {
     "data": {
      "text/plain": [
       "0       06083002103\n",
       "1       06083002402\n",
       "2       06083002102\n",
       "3       06083002010\n",
       "4       06083002009\n",
       "           ...     \n",
       "8030    06037430302\n",
       "8031    06037430723\n",
       "8032    06037431100\n",
       "8033    06037533603\n",
       "8034    06037534101\n",
       "Name: tract, Length: 8035, dtype: object"
      ]
     },
     "execution_count": 1133,
     "metadata": {},
     "output_type": "execute_result"
    }
   ],
   "source": [
    "ces_gdf.tract"
   ]
  },
  {
   "cell_type": "code",
   "execution_count": 1134,
   "metadata": {},
   "outputs": [],
   "source": [
    "ces_gdf_simplified = ces_gdf[['tract','CIscore', 'CIscoreP']]"
   ]
  },
  {
   "cell_type": "code",
   "execution_count": 1135,
   "metadata": {},
   "outputs": [
    {
     "data": {
      "text/plain": [
       "<matplotlib.axes._subplots.AxesSubplot at 0x7f909e0cd9d0>"
      ]
     },
     "execution_count": 1135,
     "metadata": {},
     "output_type": "execute_result"
    },
    {
     "data": {
      "image/png": "[encoded data removed]",
      "text/plain": [
       "<Figure size 432x288 with 1 Axes>"
      ]
     },
     "metadata": {
      "needs_background": "light"
     },
     "output_type": "display_data"
    }
   ],
   "source": [
    "final_equity_geom.plot()"
   ]
  },
  {
   "cell_type": "code",
   "execution_count": 1136,
   "metadata": {},
   "outputs": [],
   "source": [
    "#final_equity_geom = gdf.merge(transpo_mhi_age,left_on='geoid',right_on='geoid_join')\n",
    "\n",
    "\n",
    "final_equity_output = final_equity_geom.merge(ces_gdf_simplified, left_on='geoid_join', right_on='tract')\n"
   ]
  },
  {
   "cell_type": "code",
   "execution_count": 1137,
   "metadata": {},
   "outputs": [
    {
     "name": "stdout",
     "output_type": "stream",
     "text": [
      "<class 'geopandas.geodataframe.GeoDataFrame'>\n"
     ]
    }
   ],
   "source": [
    "print(type(final_equity_output))"
   ]
  },
  {
   "cell_type": "code",
   "execution_count": 1138,
   "metadata": {},
   "outputs": [
    {
     "data": {
      "text/html": [
       "<div>\n",
       "<style scoped>\n",
       "    .dataframe tbody tr th:only-of-type {\n",
       "        vertical-align: middle;\n",
       "    }\n",
       "\n",
       "    .dataframe tbody tr th {\n",
       "        vertical-align: top;\n",
       "    }\n",
       "\n",
       "    .dataframe thead th {\n",
       "        text-align: right;\n",
       "    }\n",
       "</style>\n",
       "<table border=\"1\" class=\"dataframe\">\n",
       "  <thead>\n",
       "    <tr style=\"text-align: right;\">\n",
       "      <th></th>\n",
       "      <th>statefp</th>\n",
       "      <th>countyfp</th>\n",
       "      <th>tractce</th>\n",
       "      <th>affgeoid</th>\n",
       "      <th>geoid_x</th>\n",
       "      <th>name</th>\n",
       "      <th>lsad</th>\n",
       "      <th>aland</th>\n",
       "      <th>awater</th>\n",
       "      <th>geometry</th>\n",
       "      <th>...</th>\n",
       "      <th>total_pop</th>\n",
       "      <th>age_18_under</th>\n",
       "      <th>age_65_over</th>\n",
       "      <th>age_vulnerable</th>\n",
       "      <th>pct_age_18_under</th>\n",
       "      <th>pct_age_65_over</th>\n",
       "      <th>pct_age_vulnerable</th>\n",
       "      <th>tract_y</th>\n",
       "      <th>CIscore</th>\n",
       "      <th>CIscoreP</th>\n",
       "    </tr>\n",
       "  </thead>\n",
       "  <tbody>\n",
       "    <tr>\n",
       "      <th>0</th>\n",
       "      <td>06</td>\n",
       "      <td>001</td>\n",
       "      <td>425101</td>\n",
       "      <td>1400000US06001425101</td>\n",
       "      <td>06001425101</td>\n",
       "      <td>4251.01</td>\n",
       "      <td>CT</td>\n",
       "      <td>590870</td>\n",
       "      <td>2045459</td>\n",
       "      <td>POLYGON ((-122.31419 37.84231, -122.29923 37.8...</td>\n",
       "      <td>...</td>\n",
       "      <td>1588</td>\n",
       "      <td>55</td>\n",
       "      <td>493</td>\n",
       "      <td>548</td>\n",
       "      <td>3.463476</td>\n",
       "      <td>31.045340</td>\n",
       "      <td>34.508816</td>\n",
       "      <td>06001425101</td>\n",
       "      <td>30.63</td>\n",
       "      <td>61</td>\n",
       "    </tr>\n",
       "    <tr>\n",
       "      <th>1</th>\n",
       "      <td>06</td>\n",
       "      <td>001</td>\n",
       "      <td>428600</td>\n",
       "      <td>1400000US06001428600</td>\n",
       "      <td>06001428600</td>\n",
       "      <td>4286</td>\n",
       "      <td>CT</td>\n",
       "      <td>898967</td>\n",
       "      <td>1080420</td>\n",
       "      <td>POLYGON ((-122.27993 37.76818, -122.27849 37.7...</td>\n",
       "      <td>...</td>\n",
       "      <td>3471</td>\n",
       "      <td>525</td>\n",
       "      <td>824</td>\n",
       "      <td>1349</td>\n",
       "      <td>15.125324</td>\n",
       "      <td>23.739556</td>\n",
       "      <td>38.864880</td>\n",
       "      <td>06001428600</td>\n",
       "      <td>14.47</td>\n",
       "      <td>24</td>\n",
       "    </tr>\n",
       "    <tr>\n",
       "      <th>2</th>\n",
       "      <td>06</td>\n",
       "      <td>001</td>\n",
       "      <td>432600</td>\n",
       "      <td>1400000US06001432600</td>\n",
       "      <td>06001432600</td>\n",
       "      <td>4326</td>\n",
       "      <td>CT</td>\n",
       "      <td>1673450</td>\n",
       "      <td>0</td>\n",
       "      <td>POLYGON ((-122.16751 37.72632, -122.16108 37.7...</td>\n",
       "      <td>...</td>\n",
       "      <td>7314</td>\n",
       "      <td>1296</td>\n",
       "      <td>939</td>\n",
       "      <td>2235</td>\n",
       "      <td>17.719442</td>\n",
       "      <td>12.838392</td>\n",
       "      <td>30.557834</td>\n",
       "      <td>06001432600</td>\n",
       "      <td>36.40</td>\n",
       "      <td>71</td>\n",
       "    </tr>\n",
       "    <tr>\n",
       "      <th>3</th>\n",
       "      <td>06</td>\n",
       "      <td>001</td>\n",
       "      <td>433200</td>\n",
       "      <td>1400000US06001433200</td>\n",
       "      <td>06001433200</td>\n",
       "      <td>4332</td>\n",
       "      <td>CT</td>\n",
       "      <td>3174901</td>\n",
       "      <td>0</td>\n",
       "      <td>POLYGON ((-122.16667 37.71042, -122.15559 37.7...</td>\n",
       "      <td>...</td>\n",
       "      <td>7625</td>\n",
       "      <td>1944</td>\n",
       "      <td>951</td>\n",
       "      <td>2895</td>\n",
       "      <td>25.495082</td>\n",
       "      <td>12.472131</td>\n",
       "      <td>37.967213</td>\n",
       "      <td>06001433200</td>\n",
       "      <td>44.90</td>\n",
       "      <td>83</td>\n",
       "    </tr>\n",
       "    <tr>\n",
       "      <th>4</th>\n",
       "      <td>06</td>\n",
       "      <td>001</td>\n",
       "      <td>433900</td>\n",
       "      <td>1400000US06001433900</td>\n",
       "      <td>06001433900</td>\n",
       "      <td>4339</td>\n",
       "      <td>CT</td>\n",
       "      <td>816585</td>\n",
       "      <td>0</td>\n",
       "      <td>POLYGON ((-122.12091 37.69998, -122.11723 37.7...</td>\n",
       "      <td>...</td>\n",
       "      <td>7440</td>\n",
       "      <td>2026</td>\n",
       "      <td>496</td>\n",
       "      <td>2522</td>\n",
       "      <td>27.231183</td>\n",
       "      <td>6.666667</td>\n",
       "      <td>33.897849</td>\n",
       "      <td>06001433900</td>\n",
       "      <td>32.01</td>\n",
       "      <td>63</td>\n",
       "    </tr>\n",
       "    <tr>\n",
       "      <th>...</th>\n",
       "      <td>...</td>\n",
       "      <td>...</td>\n",
       "      <td>...</td>\n",
       "      <td>...</td>\n",
       "      <td>...</td>\n",
       "      <td>...</td>\n",
       "      <td>...</td>\n",
       "      <td>...</td>\n",
       "      <td>...</td>\n",
       "      <td>...</td>\n",
       "      <td>...</td>\n",
       "      <td>...</td>\n",
       "      <td>...</td>\n",
       "      <td>...</td>\n",
       "      <td>...</td>\n",
       "      <td>...</td>\n",
       "      <td>...</td>\n",
       "      <td>...</td>\n",
       "      <td>...</td>\n",
       "      <td>...</td>\n",
       "      <td>...</td>\n",
       "    </tr>\n",
       "    <tr>\n",
       "      <th>355</th>\n",
       "      <td>06</td>\n",
       "      <td>001</td>\n",
       "      <td>427300</td>\n",
       "      <td>1400000US06001427300</td>\n",
       "      <td>06001427300</td>\n",
       "      <td>4273</td>\n",
       "      <td>CT</td>\n",
       "      <td>1950568</td>\n",
       "      <td>861367</td>\n",
       "      <td>POLYGON ((-122.27671 37.77719, -122.27663 37.7...</td>\n",
       "      <td>...</td>\n",
       "      <td>5084</td>\n",
       "      <td>1057</td>\n",
       "      <td>728</td>\n",
       "      <td>1785</td>\n",
       "      <td>20.790716</td>\n",
       "      <td>14.319434</td>\n",
       "      <td>35.110149</td>\n",
       "      <td>06001427300</td>\n",
       "      <td>33.76</td>\n",
       "      <td>66</td>\n",
       "    </tr>\n",
       "    <tr>\n",
       "      <th>356</th>\n",
       "      <td>06</td>\n",
       "      <td>001</td>\n",
       "      <td>428400</td>\n",
       "      <td>1400000US06001428400</td>\n",
       "      <td>06001428400</td>\n",
       "      <td>4284</td>\n",
       "      <td>CT</td>\n",
       "      <td>810521</td>\n",
       "      <td>1168052</td>\n",
       "      <td>POLYGON ((-122.25493 37.75988, -122.25462 37.7...</td>\n",
       "      <td>...</td>\n",
       "      <td>4653</td>\n",
       "      <td>852</td>\n",
       "      <td>701</td>\n",
       "      <td>1553</td>\n",
       "      <td>18.310767</td>\n",
       "      <td>15.065549</td>\n",
       "      <td>33.376316</td>\n",
       "      <td>06001428400</td>\n",
       "      <td>25.13</td>\n",
       "      <td>50</td>\n",
       "    </tr>\n",
       "    <tr>\n",
       "      <th>357</th>\n",
       "      <td>06</td>\n",
       "      <td>001</td>\n",
       "      <td>430600</td>\n",
       "      <td>1400000US06001430600</td>\n",
       "      <td>06001430600</td>\n",
       "      <td>4306</td>\n",
       "      <td>CT</td>\n",
       "      <td>2261416</td>\n",
       "      <td>0</td>\n",
       "      <td>POLYGON ((-122.10628 37.70976, -122.10524 37.7...</td>\n",
       "      <td>...</td>\n",
       "      <td>6624</td>\n",
       "      <td>1264</td>\n",
       "      <td>1506</td>\n",
       "      <td>2770</td>\n",
       "      <td>19.082126</td>\n",
       "      <td>22.735507</td>\n",
       "      <td>41.817633</td>\n",
       "      <td>06001430600</td>\n",
       "      <td>14.94</td>\n",
       "      <td>25</td>\n",
       "    </tr>\n",
       "    <tr>\n",
       "      <th>358</th>\n",
       "      <td>06</td>\n",
       "      <td>001</td>\n",
       "      <td>451501</td>\n",
       "      <td>1400000US06001451501</td>\n",
       "      <td>06001451501</td>\n",
       "      <td>4515.01</td>\n",
       "      <td>CT</td>\n",
       "      <td>5051294</td>\n",
       "      <td>0</td>\n",
       "      <td>POLYGON ((-121.76526 37.67997, -121.75512 37.6...</td>\n",
       "      <td>...</td>\n",
       "      <td>4751</td>\n",
       "      <td>1137</td>\n",
       "      <td>818</td>\n",
       "      <td>1955</td>\n",
       "      <td>23.931804</td>\n",
       "      <td>17.217428</td>\n",
       "      <td>41.149232</td>\n",
       "      <td>06001451501</td>\n",
       "      <td>26.20</td>\n",
       "      <td>52</td>\n",
       "    </tr>\n",
       "    <tr>\n",
       "      <th>359</th>\n",
       "      <td>06</td>\n",
       "      <td>001</td>\n",
       "      <td>435102</td>\n",
       "      <td>1400000US06001435102</td>\n",
       "      <td>06001435102</td>\n",
       "      <td>4351.02</td>\n",
       "      <td>CT</td>\n",
       "      <td>4225670</td>\n",
       "      <td>0</td>\n",
       "      <td>POLYGON ((-122.06510 37.65165, -122.06114 37.6...</td>\n",
       "      <td>...</td>\n",
       "      <td>6245</td>\n",
       "      <td>848</td>\n",
       "      <td>814</td>\n",
       "      <td>1662</td>\n",
       "      <td>13.578863</td>\n",
       "      <td>13.034428</td>\n",
       "      <td>26.613291</td>\n",
       "      <td>06001435102</td>\n",
       "      <td>16.90</td>\n",
       "      <td>30</td>\n",
       "    </tr>\n",
       "  </tbody>\n",
       "</table>\n",
       "<p>360 rows × 39 columns</p>\n",
       "</div>"
      ],
      "text/plain": [
       "    statefp countyfp tractce              affgeoid      geoid_x     name lsad  \\\n",
       "0        06      001  425101  1400000US06001425101  06001425101  4251.01   CT   \n",
       "1        06      001  428600  1400000US06001428600  06001428600     4286   CT   \n",
       "2        06      001  432600  1400000US06001432600  06001432600     4326   CT   \n",
       "3        06      001  433200  1400000US06001433200  06001433200     4332   CT   \n",
       "4        06      001  433900  1400000US06001433900  06001433900     4339   CT   \n",
       "..      ...      ...     ...                   ...          ...      ...  ...   \n",
       "355      06      001  427300  1400000US06001427300  06001427300     4273   CT   \n",
       "356      06      001  428400  1400000US06001428400  06001428400     4284   CT   \n",
       "357      06      001  430600  1400000US06001430600  06001430600     4306   CT   \n",
       "358      06      001  451501  1400000US06001451501  06001451501  4515.01   CT   \n",
       "359      06      001  435102  1400000US06001435102  06001435102  4351.02   CT   \n",
       "\n",
       "       aland   awater                                           geometry  ...  \\\n",
       "0     590870  2045459  POLYGON ((-122.31419 37.84231, -122.29923 37.8...  ...   \n",
       "1     898967  1080420  POLYGON ((-122.27993 37.76818, -122.27849 37.7...  ...   \n",
       "2    1673450        0  POLYGON ((-122.16751 37.72632, -122.16108 37.7...  ...   \n",
       "3    3174901        0  POLYGON ((-122.16667 37.71042, -122.15559 37.7...  ...   \n",
       "4     816585        0  POLYGON ((-122.12091 37.69998, -122.11723 37.7...  ...   \n",
       "..       ...      ...                                                ...  ...   \n",
       "355  1950568   861367  POLYGON ((-122.27671 37.77719, -122.27663 37.7...  ...   \n",
       "356   810521  1168052  POLYGON ((-122.25493 37.75988, -122.25462 37.7...  ...   \n",
       "357  2261416        0  POLYGON ((-122.10628 37.70976, -122.10524 37.7...  ...   \n",
       "358  5051294        0  POLYGON ((-121.76526 37.67997, -121.75512 37.6...  ...   \n",
       "359  4225670        0  POLYGON ((-122.06510 37.65165, -122.06114 37.6...  ...   \n",
       "\n",
       "    total_pop  age_18_under  age_65_over  age_vulnerable  pct_age_18_under  \\\n",
       "0        1588            55          493             548          3.463476   \n",
       "1        3471           525          824            1349         15.125324   \n",
       "2        7314          1296          939            2235         17.719442   \n",
       "3        7625          1944          951            2895         25.495082   \n",
       "4        7440          2026          496            2522         27.231183   \n",
       "..        ...           ...          ...             ...               ...   \n",
       "355      5084          1057          728            1785         20.790716   \n",
       "356      4653           852          701            1553         18.310767   \n",
       "357      6624          1264         1506            2770         19.082126   \n",
       "358      4751          1137          818            1955         23.931804   \n",
       "359      6245           848          814            1662         13.578863   \n",
       "\n",
       "     pct_age_65_over  pct_age_vulnerable      tract_y  CIscore  CIscoreP  \n",
       "0          31.045340           34.508816  06001425101    30.63        61  \n",
       "1          23.739556           38.864880  06001428600    14.47        24  \n",
       "2          12.838392           30.557834  06001432600    36.40        71  \n",
       "3          12.472131           37.967213  06001433200    44.90        83  \n",
       "4           6.666667           33.897849  06001433900    32.01        63  \n",
       "..               ...                 ...          ...      ...       ...  \n",
       "355        14.319434           35.110149  06001427300    33.76        66  \n",
       "356        15.065549           33.376316  06001428400    25.13        50  \n",
       "357        22.735507           41.817633  06001430600    14.94        25  \n",
       "358        17.217428           41.149232  06001451501    26.20        52  \n",
       "359        13.034428           26.613291  06001435102    16.90        30  \n",
       "\n",
       "[360 rows x 39 columns]"
      ]
     },
     "execution_count": 1138,
     "metadata": {},
     "output_type": "execute_result"
    }
   ],
   "source": [
    "final_equity_output"
   ]
  },
  {
   "cell_type": "code",
   "execution_count": 1139,
   "metadata": {},
   "outputs": [
    {
     "data": {
      "text/plain": [
       "Index(['statefp', 'countyfp', 'tractce', 'affgeoid', 'geoid', 'name', 'lsad',\n",
       "       'aland', 'awater', 'geometry'],\n",
       "      dtype='object')"
      ]
     },
     "execution_count": 1139,
     "metadata": {},
     "output_type": "execute_result"
    }
   ],
   "source": [
    "gdf.columns"
   ]
  },
  {
   "cell_type": "code",
   "execution_count": 1140,
   "metadata": {},
   "outputs": [],
   "source": [
    "final_equity_output.to_file(Equity_Tracts)"
   ]
  },
  {
   "cell_type": "code",
   "execution_count": 1141,
   "metadata": {},
   "outputs": [
    {
     "data": {
      "text/plain": [
       "<matplotlib.axes._subplots.AxesSubplot at 0x7f907e6050d0>"
      ]
     },
     "execution_count": 1141,
     "metadata": {},
     "output_type": "execute_result"
    },
    {
     "data": {
      "image/png": "[encoded data removed]",
      "text/plain": [
       "<Figure size 432x288 with 1 Axes>"
      ]
     },
     "metadata": {
      "needs_background": "light"
     },
     "output_type": "display_data"
    }
   ],
   "source": [
    "final_equity_geom.plot()"
   ]
  },
  {
   "cell_type": "code",
   "execution_count": 1142,
   "metadata": {},
   "outputs": [
    {
     "data": {
      "text/html": [
       "<div>\n",
       "<style scoped>\n",
       "    .dataframe tbody tr th:only-of-type {\n",
       "        vertical-align: middle;\n",
       "    }\n",
       "\n",
       "    .dataframe tbody tr th {\n",
       "        vertical-align: top;\n",
       "    }\n",
       "\n",
       "    .dataframe thead th {\n",
       "        text-align: right;\n",
       "    }\n",
       "</style>\n",
       "<table border=\"1\" class=\"dataframe\">\n",
       "  <thead>\n",
       "    <tr style=\"text-align: right;\">\n",
       "      <th></th>\n",
       "      <th>statefp</th>\n",
       "      <th>countyfp</th>\n",
       "      <th>tractce</th>\n",
       "      <th>affgeoid</th>\n",
       "      <th>geoid_x</th>\n",
       "      <th>name</th>\n",
       "      <th>lsad</th>\n",
       "      <th>aland</th>\n",
       "      <th>awater</th>\n",
       "      <th>geometry</th>\n",
       "      <th>...</th>\n",
       "      <th>total_pop</th>\n",
       "      <th>age_18_under</th>\n",
       "      <th>age_65_over</th>\n",
       "      <th>age_vulnerable</th>\n",
       "      <th>pct_age_18_under</th>\n",
       "      <th>pct_age_65_over</th>\n",
       "      <th>pct_age_vulnerable</th>\n",
       "      <th>tract_y</th>\n",
       "      <th>CIscore</th>\n",
       "      <th>CIscoreP</th>\n",
       "    </tr>\n",
       "  </thead>\n",
       "  <tbody>\n",
       "    <tr>\n",
       "      <th>322</th>\n",
       "      <td>06</td>\n",
       "      <td>001</td>\n",
       "      <td>450752</td>\n",
       "      <td>1400000US06001450752</td>\n",
       "      <td>06001450752</td>\n",
       "      <td>4507.52</td>\n",
       "      <td>CT</td>\n",
       "      <td>17421881</td>\n",
       "      <td>0</td>\n",
       "      <td>POLYGON ((-121.88157 37.73733, -121.87354 37.7...</td>\n",
       "      <td>...</td>\n",
       "      <td>6642</td>\n",
       "      <td>2051</td>\n",
       "      <td>490</td>\n",
       "      <td>2541</td>\n",
       "      <td>30.879253</td>\n",
       "      <td>7.377296</td>\n",
       "      <td>38.256549</td>\n",
       "      <td>06001450752</td>\n",
       "      <td>17.21</td>\n",
       "      <td>31</td>\n",
       "    </tr>\n",
       "  </tbody>\n",
       "</table>\n",
       "<p>1 rows × 39 columns</p>\n",
       "</div>"
      ],
      "text/plain": [
       "    statefp countyfp tractce              affgeoid      geoid_x     name lsad  \\\n",
       "322      06      001  450752  1400000US06001450752  06001450752  4507.52   CT   \n",
       "\n",
       "        aland  awater                                           geometry  ...  \\\n",
       "322  17421881       0  POLYGON ((-121.88157 37.73733, -121.87354 37.7...  ...   \n",
       "\n",
       "    total_pop  age_18_under  age_65_over  age_vulnerable  pct_age_18_under  \\\n",
       "322      6642          2051          490            2541         30.879253   \n",
       "\n",
       "     pct_age_65_over  pct_age_vulnerable      tract_y  CIscore  CIscoreP  \n",
       "322         7.377296           38.256549  06001450752    17.21        31  \n",
       "\n",
       "[1 rows x 39 columns]"
      ]
     },
     "execution_count": 1142,
     "metadata": {},
     "output_type": "execute_result"
    }
   ],
   "source": [
    "#Test that previous join error did not occur. \n",
    "final_equity_output.loc[final_equity_output['geoid_join']=='06001450752']"
   ]
  },
  {
   "cell_type": "code",
   "execution_count": 1143,
   "metadata": {},
   "outputs": [
    {
     "data": {
      "text/plain": [
       "0      06001425101\n",
       "1      06001428600\n",
       "2      06001432600\n",
       "3      06001433200\n",
       "4      06001433900\n",
       "          ...     \n",
       "355    06001427300\n",
       "356    06001428400\n",
       "357    06001430600\n",
       "358    06001451501\n",
       "359    06001435102\n",
       "Name: geoid_join, Length: 360, dtype: object"
      ]
     },
     "execution_count": 1143,
     "metadata": {},
     "output_type": "execute_result"
    }
   ],
   "source": [
    "final_equity_output['geoid_join']"
   ]
  },
  {
   "cell_type": "code",
   "execution_count": 1144,
   "metadata": {},
   "outputs": [],
   "source": [
    "#Export county level dataframes to excel\n",
    "\n",
    "with pd.ExcelWriter(EXCEL_FP) as writer:\n",
    "    df_age_county.to_excel(writer, sheet_name='county_age')\n",
    "    df_transpo_mode_county.to_excel(writer, sheet_name='county_transpo_mode')\n",
    "    df_mhi_county.to_excel(writer, sheet_name='county_mhi')\n",
    "\n",
    "# OTHER EXAMPLES FOUND WHILE TROUBLESHOOTING\n",
    "# with pd.ExcelWriter(\"test.xlsx\", engine='openpyxl', mode='a') as writer:\n",
    "#     df.to_excel(writer)\n",
    "# with pd.ExcelWriter(Excel_FP) as writer:\n",
    "#     bike_crashes_by_year.to_excel(writer, sheet_name='b_crashes_by_year')"
   ]
  },
  {
   "cell_type": "code",
   "execution_count": 1145,
   "metadata": {},
   "outputs": [],
   "source": [
    "#SOURCES\n",
    "#https://www.w3schools.com/tags/ref_urlencode.ASP\n",
    "#https://www.census.gov/content/dam/Census/data/developers/api-user-guide/api-guide.pdf\n",
    "#https://api.census.gov/data/2018/acs/acs5/variables.html\n",
    "#https://api.census.gov/data/2018/acs/acs5/subject/variables.html\n",
    "#https://www.youtube.com/watch?v=Wi0_Mb0e4JM\n",
    "#https://atcoordinates.info/2019/09/24/examples-of-using-the-census-bureaus-api-with-python/\n",
    "#--downloading tigerline from zip -- \n",
    "#http://andrewgaidus.com/Dot_Density_County_Maps/\n",
    "#--Python for reading zip tigerline shpfile --\n",
    "#http://andrewgaidus.com/Reading_Zipped_Shapefiles/\n",
    "#--Aaron's ATP Data Mining Project would also be useful--\n",
    "#https://github.com/AltaPlanning/GIS-notebooks/tree/master/2020-000%20ATP%20Data%20Mining\n",
    "#https://automating-gis-processes.github.io/site/notebooks/L5/interactive-map-folium.html\n",
    "\n",
    "#-- geographies and summary levels --\n",
    "#https://censusreporter.org/topics/geography/\n",
    "#geo_ids=140|04000US06  --> this should be a all tracts in California\n",
    "\n",
    "#There is no great way to use the api to return census tract geometries: the geography api functions \n",
    "#only seem to allow calling a specific geoid. One option would be to loop through geoids and call census reporter\n",
    "#to request geography for each geoid, but that would involve a lot of calls. \n",
    "#https://api.censusreporter.org/1.0/data/show/latest?table_ids=B01001&geo_ids=140|04000US06\n",
    "#error\"You requested 8057 geoids. The maximum is 3500. Please contact us for bulk data.\"\n",
    "\n",
    "\n",
    "\n",
    "# MEDIAN EARNINGS IN THE PAST 12 MONTHS (IN 2018 INFLATION-ADJUSTED DOLLARS) BY MEANS OF TRANSPORTATION TO WORK\n",
    "# Survey/Program: American Community Survey\n",
    "# Universe: Workers 16 years and over with earnings\n",
    "# Year: 2018\n",
    "# Estimates: 1-Year\n",
    "# Table ID: B08121\n",
    "\n",
    "# ### OTHER NOTES\n",
    "#I was a bit confused about obtaining the Census Tiger boundaries. The Tigerweb REST service seemed geared towards\n",
    "#delivering Web Map Service (WMS) map images. We want the spatial data! Hopefully the stack exchange post linked below\n",
    "#clears some of the confusion up.\n",
    "#https://gis.stackexchange.com/questions/269650/how-to-bring-the-tiger-census-reporter-api-to-geopandas\n",
    "#--->I'm not sure if these geometries still exist on the census api. \n",
    "#zipfiles can be downloaded at the ftp site below. I am using blog and aaron's atp data mining python as examples. \n",
    "#For now I am just going to manually unzip census geometry, but a link to a tutorial is included below to automate\n",
    "#download, unzipping, and processing the geometry. \n",
    "\n",
    "#ftp://ftp2.census.gov/geo/tiger/TIGER2018/TRACT/tl_2018_06_tract.zip\n",
    "\n"
   ]
  }
 ],
 "metadata": {
  "kernelspec": {
   "display_name": "Python 3",
   "language": "python",
   "name": "python3"
  },
  "language_info": {
   "codemirror_mode": {
    "name": "ipython",
    "version": 3
   },
   "file_extension": ".py",
   "mimetype": "text/x-python",
   "name": "python",
   "nbconvert_exporter": "python",
   "pygments_lexer": "ipython3",
   "version": "3.7.6"
  }
 },
 "nbformat": 4,
 "nbformat_minor": 4
}
