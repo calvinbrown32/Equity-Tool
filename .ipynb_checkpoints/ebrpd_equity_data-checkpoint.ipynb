{
 "cells": [
  {
   "cell_type": "code",
   "execution_count": 858,
   "metadata": {},
   "outputs": [
    {
     "data": {
      "text/plain": [
       "'\\nTO DO \\n-Clean up Script\\n-Turn Script into function\\n-Further simplify/aggregate countywide stat excel outputs. \\n\\n\\n'"
      ]
     },
     "execution_count": 858,
     "metadata": {},
     "output_type": "execute_result"
    }
   ],
   "source": [
    "\"\"\"\n",
    "This script downloads census data exports county level data to an excel file and tract level data to shapefiles.\n",
    "Other notes: \n",
    "This script will be built out to include all relevant census variables. \n",
    "Environment is based off of Pin-Up environment. Jupytext and o\n",
    "\"\"\"\n",
    "\n",
    "\"\"\"\n",
    "TO DO \n",
    "-Clean up Script\n",
    "-Turn Script into function\n",
    "-Further simplify/aggregate countywide stat excel outputs. \n",
    "\n",
    "\n",
    "\"\"\""
   ]
  },
  {
   "cell_type": "code",
   "execution_count": 859,
   "metadata": {},
   "outputs": [],
   "source": [
    "#import necessary libraries\n",
    "\n",
    "import requests\n",
    "import pandas as pd\n",
    "import geopandas as gpd\n",
    "import numpy as np\n",
    "# import geojson\n",
    "import folium\n",
    "import os\n"
   ]
  },
  {
   "cell_type": "code",
   "execution_count": 926,
   "metadata": {},
   "outputs": [],
   "source": [
    "# FIPS CODES\n",
    "Alameda = \"001\"\n",
    "Contra_Costa = \"013\"\n",
    "Solano = \"095\"\n",
    "San_Francisco = \"075\"\n",
    "\n"
   ]
  },
  {
   "cell_type": "code",
   "execution_count": 927,
   "metadata": {},
   "outputs": [],
   "source": [
    "#For each iteration change the county\n",
    "county = Contra_Costa"
   ]
  },
  {
   "cell_type": "code",
   "execution_count": 928,
   "metadata": {},
   "outputs": [],
   "source": [
    "#Set output filepaths\n",
    "Equity_Tracts = f'/Users/calvindechicago/PycharmProjects/AltaWork/AltaProjects/EBRPD/Equity_Data/equity_tracts_{county}.shp'\n",
    "\n",
    "Transportation_Tracts = '/Users/calvindechicago/PycharmProjects/AltaWork/AltaProjects/EBRPD/Equity_Data/transportation_tracts.shp'\n",
    "\n",
    "Age_Tracts = '/Users/calvindechicago/PycharmProjects/AltaWork/AltaProjects/EBRPD/Equity_Data/tract_age.shp'\n",
    "\n",
    "EXCEL_FP = f'/Users/calvindechicago/PycharmProjects/AltaWork/AltaProjects/EBRPD/Equity_Data/countylevel_demographics_{county}.xlsx'"
   ]
  },
  {
   "cell_type": "code",
   "execution_count": 929,
   "metadata": {},
   "outputs": [],
   "source": [
    "#These are all of the main variables used to build a call url to the the census api website\n",
    "#Available APIs (--> 2018 ACS Detailed Tables Variables [ html | xml | json ])\n",
    "#https://www.census.gov/data/developers/data-sets.html\n",
    "\n",
    "HOST = \"https://api.census.gov/data\"\n",
    "year = \"2018\"\n",
    "#dataset = \"acs/acs5/subject\"\n",
    "dataset = \"acs/acs5\"\n",
    "api_key = \"f9e79198302081250c07d556f35d8a81cdae528a\"\n",
    "base_url = \"/\".join([HOST, year, dataset,])"
   ]
  },
  {
   "cell_type": "code",
   "execution_count": 930,
   "metadata": {},
   "outputs": [],
   "source": [
    "# Setup request for Table B08006: Sex of Workers by Means of Transportation to Work\n",
    "# Setup request for Table B08014: SEX OF WORKERS BY VEHICLES AVAILABLE (Total and No vehicle columns only)\n",
    "# (COUNTY LEVEL)\n",
    "request_predicates = {}\n",
    "get_vars_transpo_mode = [\"NAME\",\"B08006_001E\",\"B08006_002E\",\"B08006_003E\", \"B08006_004E\",\n",
    "                         \"B08006_008E\",\"B08006_014E\",\"B08006_015E\",\"B08006_016E\", \n",
    "                         \"B08006_017E\", \"GEO_ID\", \"B08014_001E\", \"B08014_002E\" \n",
    "                        ]\n",
    "col_names_transpo_mode = [\"place_name\", \"total\",\"total_car_truck_van\",\n",
    "                          \"car_truck_van_drove_alone\",\"car_truck_van_carpooled\",\n",
    "                          \"public_transportation\", \"bike\", \"walk\", \"taxi_moto_other\",\n",
    "                          \"work_from_home\",\"geoid\", \"total_workers\", \"no_vehicle\",\n",
    "                          \"state_code\", \"county\"\n",
    "                         ]\n",
    "\n",
    "request_predicates[\"key\"] = api_key\n",
    "request_predicates[\"get\"] = \",\".join(get_vars_transpo_mode)\n",
    "\n",
    "\n",
    "#THESE PREDICATES GET AGGREGATE TOTALS FOR ENTIRE COUNTY (SACRAMENTO)\n",
    "#request_predicates[\"for\"] = \"county:067\" #Sacramento\n",
    "request_predicates[\"for\"] = f\"county:{county}\"  \n",
    "request_predicates[\"in\"] = \"state:06\"\n",
    "\n",
    "transpo_mode_county = requests.get(base_url, params=request_predicates)\n",
    "num_columns = 15"
   ]
  },
  {
   "cell_type": "code",
   "execution_count": 931,
   "metadata": {},
   "outputs": [],
   "source": [
    "#Setting up Means of Transportation to Workdata frame, getting rid of first header row\n",
    "df_transpo_mode_county = pd.DataFrame(columns=col_names_transpo_mode, data=transpo_mode_county.json()[1:])"
   ]
  },
  {
   "cell_type": "code",
   "execution_count": 932,
   "metadata": {},
   "outputs": [],
   "source": [
    "# THESE PREDICATES GET DATA FOR EVERY TRACT in County\n",
    "# These revised predicates replace the 'for' and 'in' predicates above.\n",
    "#(TRACT LEVEL)\n",
    "\n",
    "request_predicates[\"for\"] = \"tract:*\"\n",
    "#request_predicates[\"in\"] = \"state:06+county:067\"\n",
    "request_predicates[\"in\"] = f\"state:06+county:{county}\"\n",
    "\n",
    "transpo_mode_tracts = requests.get(base_url, params=request_predicates)\n",
    "\n"
   ]
  },
  {
   "cell_type": "code",
   "execution_count": 933,
   "metadata": {},
   "outputs": [],
   "source": [
    "#Setting up Means of Transportation to Work at Tract Level data frame, getting rid of first header row\n",
    "#This includes appending 'tract' to columns list\n",
    "col_names_transpo_mode = [\"place_name\", \"total\",\"total_car_truck_van\",\n",
    "                          \"car_truck_van_drove_alone\",\"car_truck_van_carpooled\",\n",
    "                          \"public_transportation\", \"bike\", \"walk\", \"taxi_moto_other\",\n",
    "                          \"work_from_home\",\"geoid\", \"total_workers\", \"no_vehicle\",\"state_code\",\n",
    "                          \"county\", \"tract\" \n",
    "                         ]\n",
    "df_transpo_mode_tracts = pd.DataFrame(columns=col_names_transpo_mode, data=transpo_mode_tracts.json()[1:])\n",
    "num_columns = 16"
   ]
  },
  {
   "cell_type": "code",
   "execution_count": 934,
   "metadata": {},
   "outputs": [],
   "source": [
    "dtype_conversion = { \"total\": int,\n",
    "                    \"total_car_truck_van\": int,\n",
    "                    \"car_truck_van_drove_alone\": int,\n",
    "                    \"car_truck_van_carpooled\": int,\n",
    "                    \"public_transportation\": int,\n",
    "                    \"bike\": int,\n",
    "                    \"walk\": int, \n",
    "                    \"taxi_moto_other\": int, \n",
    "                    \"work_from_home\": int, \n",
    "                    \"total_workers\": int, \n",
    "                    \"no_vehicle\": int\n",
    "                }\n",
    "\n",
    "df_transpo_mode_tracts = df_transpo_mode_tracts.astype(dtype_conversion) "
   ]
  },
  {
   "cell_type": "code",
   "execution_count": 935,
   "metadata": {},
   "outputs": [],
   "source": [
    "df_transpo_mode_tracts[\"pct_no_veh\"] = (df_transpo_mode_tracts[\"no_vehicle\"]/df_transpo_mode_tracts[\"total_workers\"]*100)"
   ]
  },
  {
   "cell_type": "code",
   "execution_count": 936,
   "metadata": {},
   "outputs": [],
   "source": [
    "#The geoid field in the df_transpo_mode table does not match the Tigerlines geoid field. \n",
    "#This slices the the right 11 most digits, which match the geoid codes in the TigerLine file. \n",
    "#(... these are state ('06') for California, followed by county, followed by census tract)\n",
    "\n",
    "df_transpo_mode_tracts.insert(num_columns, \"geoid_join\",df_transpo_mode_tracts['geoid'].str.slice(-11), True) \n",
    "\n"
   ]
  },
  {
   "cell_type": "code",
   "execution_count": 937,
   "metadata": {},
   "outputs": [],
   "source": [
    "## SETUP FOR TABLE B08001: SEX BY AGE\n",
    "#NAME dropped from request because only 50 variables per request are permitted.\n",
    "request_predicates = {}\n",
    "get_vars_age = [\"B01001_001E\", \"B01001_002E\",\"B01001_003E\", \"B01001_004E\",\"B01001_005E\", \n",
    "                \"B01001_006E\", \"B01001_007E\",\"B01001_008E\", \"B01001_009E\",\"B01001_010E\", \n",
    "                \"B01001_011E\", \"B01001_012E\",\"B01001_013E\", \"B01001_014E\",\"B01001_015E\", \n",
    "                \"B01001_016E\", \"B01001_017E\",\"B01001_018E\", \"B01001_019E\",\"B01001_020E\", \n",
    "                \"B01001_021E\", \"B01001_022E\",\"B01001_023E\", \"B01001_024E\",\"B01001_025E\", \n",
    "                \"B01001_026E\", \"B01001_027E\",\"B01001_028E\", \"B01001_029E\",\"B01001_030E\", \n",
    "                \"B01001_031E\", \"B01001_032E\",\"B01001_033E\", \"B01001_034E\",\"B01001_035E\", \n",
    "                \"B01001_036E\", \"B01001_037E\",\"B01001_038E\", \"B01001_039E\",\"B01001_040E\", \n",
    "                \"B01001_041E\", \"B01001_042E\",\"B01001_043E\", \"B01001_044E\",\"B01001_045E\", \n",
    "                \"B01001_046E\", \"B01001_047E\",\"B01001_048E\", \"B01001_049E\",\"GEO_ID\"\n",
    "                ]\n",
    "\n",
    "col_names_age = [\"total_pop\",\"total_male\",\"tl_m0_5\",\"tl_m5_9\", \"tl_m10_14\", \"tl_m15_17\", \n",
    "                 \"tl_m18_19\", \"tl_m20\", \"tl_m21\", \"tl_m22_24\", \"tl_m25_29\", \"tl_m30_34\",\n",
    "                 \"tl_m35_39\", \"tl_m40_44\", \"tl_m45_49\", \"tl_m50_54\", \"tl_m55_59\", \"tl_m60_61\",\n",
    "                 \"tl_m62_64\", \"tl_m65_66\", \"tl_m67_69\", \"tl_m70_74\", \"tl_m75_79\", \"tl_m80_84\",\n",
    "                 \"tl_m85_pl\",\"total_female\", \"tl_f0_5\",\"tl_f5_9\", \"tl_f10_14\", \"tl_f15_17\", \n",
    "                 \"tl_f18_19\", \"tl_f20\", \"tl_f21\", \"tl_f22_24\", \"tl_f25_29\", \"tl_f30_34\",\n",
    "                 \"tl_f35_39\", \"tl_f40_44\", \"tl_f45_49\", \"tl_f50_54\", \"tl_f55_59\", \"tl_f60_61\",\n",
    "                 \"tl_f62_64\", \"tl_f65_66\", \"tl_f67_69\", \"tl_f70_74\", \"tl_f75_79\", \"tl_f80_84\",\n",
    "                 \"tl_f85_pl\",\"geoid\",\"state\",\"county\"\n",
    "                ]\n",
    "\n",
    "request_predicates[\"key\"] = api_key\n",
    "request_predicates[\"get\"] = \",\".join(get_vars_age)\n",
    "\n",
    "#THESE PREDICATES GET AGGREGATE TOTALS FOR ENTIRE COUNTY (SACRAMENTO)\n",
    "request_predicates[\"for\"] = f\"county:{county}\"\n",
    "request_predicates[\"in\"] = \"state:06\"\n",
    "\n",
    "\n",
    "age_county = requests.get(base_url, params=request_predicates)\n",
    "num_columns = 49"
   ]
  },
  {
   "cell_type": "code",
   "execution_count": 938,
   "metadata": {},
   "outputs": [],
   "source": [
    "#Setting up AGE data frame, getting rid of first header row\n",
    "df_age_county = pd.DataFrame(columns=col_names_age, data=age_county.json()[1:])"
   ]
  },
  {
   "cell_type": "code",
   "execution_count": 939,
   "metadata": {},
   "outputs": [],
   "source": [
    "# THESE PREDICATES GET DATA FOR EVERY TRACT\n",
    "\n",
    "request_predicates[\"for\"] = \"tract:*\"\n",
    "request_predicates[\"in\"] = f\"state:06+county:{county}\"\n",
    "# request_predicates[\"in\"] = \"state:06+county:067\"\n",
    "\n",
    "age_tracts = requests.get(base_url, params=request_predicates)\n",
    "num_columns = 50"
   ]
  },
  {
   "cell_type": "code",
   "execution_count": 940,
   "metadata": {},
   "outputs": [],
   "source": [
    "#Setting up AGE TRACTS data frame, getting rid of first header row\n",
    "col_names_age = [\"total_pop\",\"total_male\",\"tl_m0_5\",\"tl_m5_9\", \"tl_m10_14\", \"tl_m15_17\", \n",
    "                 \"tl_m18_19\", \"tl_m20\", \"tl_m21\", \"tl_m22_24\", \"tl_m25_29\", \"tl_m30_34\",\n",
    "                 \"tl_m35_39\", \"tl_m40_44\", \"tl_m45_49\", \"tl_m50_54\", \"tl_m55_59\", \"tl_m60_61\",\n",
    "                 \"tl_m62_64\", \"tl_m65_66\", \"tl_m67_69\", \"tl_m70_74\", \"tl_m75_79\", \"tl_m80_84\",\n",
    "                 \"tl_m85_pl\",\"total_female\", \"tl_f0_5\",\"tl_f5_9\", \"tl_f10_14\", \"tl_f15_17\", \n",
    "                 \"tl_f18_19\", \"tl_f20\", \"tl_f21\", \"tl_f22_24\", \"tl_f25_29\", \"tl_f30_34\",\n",
    "                 \"tl_f35_39\", \"tl_f40_44\", \"tl_f45_49\", \"tl_f50_54\", \"tl_f55_59\", \"tl_f60_61\",\n",
    "                 \"tl_f62_64\", \"tl_f65_66\", \"tl_f67_69\", \"tl_f70_74\", \"tl_f75_79\", \"tl_f80_84\",\n",
    "                 \"tl_f85_pl\",\"geoid\",\"state\",\"county\", 'tract'\n",
    "                ]\n",
    "df_age_tracts = pd.DataFrame(columns=col_names_age, data=age_tracts.json()[1:])"
   ]
  },
  {
   "cell_type": "code",
   "execution_count": 941,
   "metadata": {},
   "outputs": [],
   "source": [
    "# using dictionary to convert specific columns \n",
    "# convert_dict = {'A': int, \n",
    "#                 'C': float\n",
    "#                } \n",
    "  \n",
    "# df = df.astype(convert_dict) \n",
    "# print(df.dtypes) \n",
    "dtype_conversion = { \"total_pop\": int,\n",
    "                    \"total_male\": int,\n",
    "                    \"tl_m0_5\": int,\n",
    "                    \"tl_m5_9\": int,\n",
    "                    \"tl_m10_14\": int,\n",
    "                    \"tl_m15_17\": int,\n",
    "                    \"tl_m18_19\": int, \n",
    "                    \"tl_m20\": int, \n",
    "                    \"tl_m21\": int, \n",
    "                    \"tl_m22_24\": int, \n",
    "                    \"tl_m25_29\": int, \n",
    "                    \"tl_m30_34\": int,\n",
    "                    \"tl_m35_39\": int, \n",
    "                    \"tl_m40_44\": int, \n",
    "                    \"tl_m45_49\": int, \n",
    "                    \"tl_m50_54\": int, \n",
    "                    \"tl_m55_59\": int, \n",
    "                    \"tl_m60_61\": int,\n",
    "                    \"tl_m62_64\": int, \n",
    "                    \"tl_m65_66\": int, \n",
    "                    \"tl_m67_69\": int, \n",
    "                    \"tl_m70_74\": int, \n",
    "                    \"tl_m75_79\": int, \n",
    "                    \"tl_m80_84\": int,\n",
    "                    \"tl_m85_pl\": int,\n",
    "                    \"total_female\": int, \n",
    "                    \"tl_f0_5\": int,\n",
    "                    \"tl_f5_9\": int,\n",
    "                    \"tl_f10_14\": int,\n",
    "                    \"tl_f15_17\": int,\n",
    "                    \"tl_f18_19\": int,\n",
    "                    \"tl_f20\": int,\n",
    "                    \"tl_f21\": int,\n",
    "                    \"tl_f22_24\": int,\n",
    "                    \"tl_f25_29\": int,\n",
    "                    \"tl_f30_34\": int,\n",
    "                    \"tl_f35_39\": int,\n",
    "                    \"tl_f40_44\": int,\n",
    "                    \"tl_f45_49\": int,\n",
    "                    \"tl_f50_54\": int,\n",
    "                    \"tl_f55_59\": int,\n",
    "                    \"tl_f60_61\": int,\n",
    "                    \"tl_f62_64\": int,\n",
    "                    \"tl_f65_66\": int,\n",
    "                    \"tl_f67_69\": int,\n",
    "                    \"tl_f70_74\": int,\n",
    "                    \"tl_f75_79\": int,\n",
    "                    \"tl_f80_84\": int,\n",
    "                    \"tl_f85_pl\": int,\n",
    "                    \"county\": int,\n",
    "                    'tract': int\n",
    "                }\n",
    "df_age_tracts = df_age_tracts.astype(dtype_conversion) "
   ]
  },
  {
   "cell_type": "code",
   "execution_count": 942,
   "metadata": {},
   "outputs": [],
   "source": [
    "age_18_under = df_age_tracts[\"tl_m0_5\"] + df_age_tracts[\"tl_f0_5\"] + df_age_tracts[\"tl_m5_9\"] + df_age_tracts[\"tl_m10_14\"] + df_age_tracts[\"tl_m15_17\"] + df_age_tracts[\"tl_f5_9\"] + df_age_tracts[\"tl_f10_14\"] + df_age_tracts[\"tl_f15_17\"]\n",
    "\n",
    "age_65_over = df_age_tracts[\"tl_f65_66\"] + df_age_tracts[\"tl_f67_69\"] + df_age_tracts[\"tl_f70_74\"] + df_age_tracts[\"tl_f75_79\"] + df_age_tracts[\"tl_f80_84\"] + df_age_tracts[\"tl_f85_pl\"] + df_age_tracts[\"tl_m65_66\"] + df_age_tracts[\"tl_m67_69\"] + df_age_tracts[\"tl_m70_74\"] + df_age_tracts[\"tl_m75_79\"] + df_age_tracts[\"tl_m80_84\"] + df_age_tracts[\"tl_m85_pl\"]\n",
    "\n",
    "age_vulnerable = age_18_under + age_65_over\n",
    "\n"
   ]
  },
  {
   "cell_type": "code",
   "execution_count": 943,
   "metadata": {},
   "outputs": [],
   "source": [
    "df_age_tracts[\"age_18_under\"] = age_18_under \n",
    "df_age_tracts[\"age_65_over\"] = age_65_over\n",
    "df_age_tracts[\"age_vulnerable\"] = age_vulnerable\n",
    "\n",
    "df_age_tracts[\"pct_age_18_under\"] = df_age_tracts[\"age_18_under\"]/df_age_tracts[\"total_pop\"]*100\n",
    "df_age_tracts[\"pct_age_65_over\"] = df_age_tracts[\"age_65_over\"]/df_age_tracts[\"total_pop\"]*100\n",
    "df_age_tracts[\"pct_age_vulnerable\"] = df_age_tracts[\"age_vulnerable\"]/df_age_tracts[\"total_pop\"]*100\n",
    "\n",
    "\n"
   ]
  },
  {
   "cell_type": "code",
   "execution_count": 944,
   "metadata": {},
   "outputs": [],
   "source": [
    "df_age_tracts_simple = df_age_tracts[[\"total_pop\",\"age_18_under\",\"age_65_over\",\"age_vulnerable\", \"pct_age_18_under\",\"pct_age_65_over\",\"pct_age_vulnerable\",\"geoid\",\"state\",\"county\",\"tract\"]]"
   ]
  },
  {
   "cell_type": "code",
   "execution_count": 945,
   "metadata": {},
   "outputs": [
    {
     "data": {
      "text/html": [
       "<div>\n",
       "<style scoped>\n",
       "    .dataframe tbody tr th:only-of-type {\n",
       "        vertical-align: middle;\n",
       "    }\n",
       "\n",
       "    .dataframe tbody tr th {\n",
       "        vertical-align: top;\n",
       "    }\n",
       "\n",
       "    .dataframe thead th {\n",
       "        text-align: right;\n",
       "    }\n",
       "</style>\n",
       "<table border=\"1\" class=\"dataframe\">\n",
       "  <thead>\n",
       "    <tr style=\"text-align: right;\">\n",
       "      <th></th>\n",
       "      <th>total_pop</th>\n",
       "      <th>age_18_under</th>\n",
       "      <th>age_65_over</th>\n",
       "      <th>age_vulnerable</th>\n",
       "      <th>pct_age_18_under</th>\n",
       "      <th>pct_age_65_over</th>\n",
       "      <th>pct_age_vulnerable</th>\n",
       "      <th>geoid</th>\n",
       "      <th>state</th>\n",
       "      <th>county</th>\n",
       "      <th>tract</th>\n",
       "    </tr>\n",
       "  </thead>\n",
       "  <tbody>\n",
       "    <tr>\n",
       "      <th>0</th>\n",
       "      <td>7595</td>\n",
       "      <td>1623</td>\n",
       "      <td>1424</td>\n",
       "      <td>3047</td>\n",
       "      <td>21.369322</td>\n",
       "      <td>18.749177</td>\n",
       "      <td>40.118499</td>\n",
       "      <td>1400000US06013340002</td>\n",
       "      <td>06</td>\n",
       "      <td>13</td>\n",
       "      <td>340002</td>\n",
       "    </tr>\n",
       "    <tr>\n",
       "      <th>1</th>\n",
       "      <td>4499</td>\n",
       "      <td>796</td>\n",
       "      <td>909</td>\n",
       "      <td>1705</td>\n",
       "      <td>17.692821</td>\n",
       "      <td>20.204490</td>\n",
       "      <td>37.897311</td>\n",
       "      <td>1400000US06013343001</td>\n",
       "      <td>06</td>\n",
       "      <td>13</td>\n",
       "      <td>343001</td>\n",
       "    </tr>\n",
       "    <tr>\n",
       "      <th>2</th>\n",
       "      <td>5574</td>\n",
       "      <td>1407</td>\n",
       "      <td>1055</td>\n",
       "      <td>2462</td>\n",
       "      <td>25.242196</td>\n",
       "      <td>18.927162</td>\n",
       "      <td>44.169358</td>\n",
       "      <td>1400000US06013346102</td>\n",
       "      <td>06</td>\n",
       "      <td>13</td>\n",
       "      <td>346102</td>\n",
       "    </tr>\n",
       "    <tr>\n",
       "      <th>3</th>\n",
       "      <td>6206</td>\n",
       "      <td>1328</td>\n",
       "      <td>1460</td>\n",
       "      <td>2788</td>\n",
       "      <td>21.398646</td>\n",
       "      <td>23.525620</td>\n",
       "      <td>44.924267</td>\n",
       "      <td>1400000US06013347000</td>\n",
       "      <td>06</td>\n",
       "      <td>13</td>\n",
       "      <td>347000</td>\n",
       "    </tr>\n",
       "    <tr>\n",
       "      <th>4</th>\n",
       "      <td>3880</td>\n",
       "      <td>879</td>\n",
       "      <td>772</td>\n",
       "      <td>1651</td>\n",
       "      <td>22.654639</td>\n",
       "      <td>19.896907</td>\n",
       "      <td>42.551546</td>\n",
       "      <td>1400000US06013353001</td>\n",
       "      <td>06</td>\n",
       "      <td>13</td>\n",
       "      <td>353001</td>\n",
       "    </tr>\n",
       "  </tbody>\n",
       "</table>\n",
       "</div>"
      ],
      "text/plain": [
       "   total_pop  age_18_under  age_65_over  age_vulnerable  pct_age_18_under  \\\n",
       "0       7595          1623         1424            3047         21.369322   \n",
       "1       4499           796          909            1705         17.692821   \n",
       "2       5574          1407         1055            2462         25.242196   \n",
       "3       6206          1328         1460            2788         21.398646   \n",
       "4       3880           879          772            1651         22.654639   \n",
       "\n",
       "   pct_age_65_over  pct_age_vulnerable                 geoid state  county  \\\n",
       "0        18.749177           40.118499  1400000US06013340002    06      13   \n",
       "1        20.204490           37.897311  1400000US06013343001    06      13   \n",
       "2        18.927162           44.169358  1400000US06013346102    06      13   \n",
       "3        23.525620           44.924267  1400000US06013347000    06      13   \n",
       "4        19.896907           42.551546  1400000US06013353001    06      13   \n",
       "\n",
       "    tract  \n",
       "0  340002  \n",
       "1  343001  \n",
       "2  346102  \n",
       "3  347000  \n",
       "4  353001  "
      ]
     },
     "execution_count": 945,
     "metadata": {},
     "output_type": "execute_result"
    }
   ],
   "source": [
    "df_age_tracts_simple.head(5)"
   ]
  },
  {
   "cell_type": "code",
   "execution_count": 946,
   "metadata": {},
   "outputs": [],
   "source": [
    "#Add geoid_join column \n",
    "df_age_tracts_simple.insert(8, \"geoid_join\",df_transpo_mode_tracts['geoid'].str.slice(-11), True) \n"
   ]
  },
  {
   "cell_type": "code",
   "execution_count": 947,
   "metadata": {},
   "outputs": [],
   "source": [
    "#B19013 Median Household Income - TRACT\n",
    "\n",
    "# THESE PREDICATES GET DATA FOR EVERY TRACT\n",
    "#NAME dropped from request because only 50 variables per request are permitted.\n",
    "request_predicates = {}\n",
    "get_vars_mhi = [\"NAME\",\"B19013_001E\", \"GEO_ID\"\n",
    "                ]\n",
    "\n",
    "col_names_mhi = [\"place_name\", \"mhi\",\n",
    "                 \"geoid\",\"state\",\"county\", \"tract\"\n",
    "                ]\n",
    "\n",
    "request_predicates[\"key\"] = api_key\n",
    "request_predicates[\"get\"] = \",\".join(get_vars_mhi)\n",
    "\n",
    "\n",
    "\n",
    "request_predicates[\"for\"] = \"tract:*\"\n",
    "request_predicates[\"in\"] = f\"state:06+county:{county}\"\n",
    "# request_predicates[\"in\"] = \"state:06+county:067\"\n",
    "\n",
    "mhi_tracts = requests.get(base_url, params=request_predicates)\n",
    "num_columns = 50\n",
    "\n"
   ]
  },
  {
   "cell_type": "code",
   "execution_count": 948,
   "metadata": {},
   "outputs": [],
   "source": [
    "#B19013 Median Household Income - COUNTY\n",
    "\n",
    "request_predicates = {}\n",
    "get_vars_mhi_county = [\"NAME\",\"B19013_001E\", \"GEO_ID\"\n",
    "                ]\n",
    "\n",
    "col_names_mhi_county = [\"place_name\", \"mhi\",\n",
    "                 \"geoid\",\"state\",\"county\"\n",
    "                ]\n",
    "\n",
    "request_predicates[\"key\"] = api_key\n",
    "request_predicates[\"get\"] = \",\".join(get_vars_mhi_county)\n",
    "\n",
    "\n",
    "#THESE PREDICATES GET AGGREGATE TOTALS FOR ENTIRE COUNTY (SACRAMENTO)\n",
    "#request_predicates[\"for\"] = \"county:067\" #Sacramento\n",
    "request_predicates[\"for\"] = f\"county:{county}\"  \n",
    "request_predicates[\"in\"] = \"state:06\"\n",
    "\n",
    "mhi_county = requests.get(base_url, params=request_predicates)\n",
    "num_columns = 15"
   ]
  },
  {
   "cell_type": "code",
   "execution_count": 949,
   "metadata": {},
   "outputs": [
    {
     "name": "stdout",
     "output_type": "stream",
     "text": [
      "<Response [200]>\n"
     ]
    }
   ],
   "source": [
    "print(mhi_tracts_county)"
   ]
  },
  {
   "cell_type": "code",
   "execution_count": 950,
   "metadata": {},
   "outputs": [],
   "source": [
    "df_mhi_county = pd.DataFrame(columns=col_names_mhi_county, data=mhi_county.json()[1:])"
   ]
  },
  {
   "cell_type": "code",
   "execution_count": 951,
   "metadata": {},
   "outputs": [
    {
     "data": {
      "text/html": [
       "<div>\n",
       "<style scoped>\n",
       "    .dataframe tbody tr th:only-of-type {\n",
       "        vertical-align: middle;\n",
       "    }\n",
       "\n",
       "    .dataframe tbody tr th {\n",
       "        vertical-align: top;\n",
       "    }\n",
       "\n",
       "    .dataframe thead th {\n",
       "        text-align: right;\n",
       "    }\n",
       "</style>\n",
       "<table border=\"1\" class=\"dataframe\">\n",
       "  <thead>\n",
       "    <tr style=\"text-align: right;\">\n",
       "      <th></th>\n",
       "      <th>place_name</th>\n",
       "      <th>mhi</th>\n",
       "      <th>geoid</th>\n",
       "      <th>state</th>\n",
       "      <th>county</th>\n",
       "    </tr>\n",
       "  </thead>\n",
       "  <tbody>\n",
       "    <tr>\n",
       "      <th>0</th>\n",
       "      <td>Contra Costa County, California</td>\n",
       "      <td>93712</td>\n",
       "      <td>0500000US06013</td>\n",
       "      <td>06</td>\n",
       "      <td>013</td>\n",
       "    </tr>\n",
       "  </tbody>\n",
       "</table>\n",
       "</div>"
      ],
      "text/plain": [
       "                        place_name    mhi           geoid state county\n",
       "0  Contra Costa County, California  93712  0500000US06013    06    013"
      ]
     },
     "execution_count": 951,
     "metadata": {},
     "output_type": "execute_result"
    }
   ],
   "source": [
    "df_mhi_county"
   ]
  },
  {
   "cell_type": "code",
   "execution_count": 952,
   "metadata": {},
   "outputs": [],
   "source": [
    "#Setting up AGE data frame, getting rid of first header row\n",
    "df_mhi = pd.DataFrame(columns=col_names_mhi, data=mhi_tracts.json()[1:])"
   ]
  },
  {
   "cell_type": "code",
   "execution_count": 953,
   "metadata": {},
   "outputs": [],
   "source": [
    "df_mhi.insert(6, \"geoid_join\",df_mhi['geoid'].str.slice(-11), True) \n"
   ]
  },
  {
   "cell_type": "code",
   "execution_count": 954,
   "metadata": {},
   "outputs": [],
   "source": [
    "\n",
    "df_age_simplified = df_age_tracts_simple[['total_pop', 'age_18_under', 'age_65_over', 'age_vulnerable',\n",
    "       'pct_age_18_under', 'pct_age_65_over', 'pct_age_vulnerable',\n",
    "       'geoid_join']]\n"
   ]
  },
  {
   "cell_type": "code",
   "execution_count": 955,
   "metadata": {},
   "outputs": [],
   "source": [
    "\n",
    "#df_transpo_mode_tracts\n",
    "df_mhi_simplified = df_mhi[['mhi','geoid_join']]"
   ]
  },
  {
   "cell_type": "code",
   "execution_count": 956,
   "metadata": {},
   "outputs": [],
   "source": [
    "# Concatenate all Equity geodataframes\n",
    "# In [4]: frames = [df1, df2, df3]\n",
    "# In [5]: result = pd.concat(frames)\n",
    "\n",
    "transpo_mhi = pd.merge(df_transpo_mode_tracts, df_mhi_simplified, on=\"geoid_join\")\n",
    "\n",
    "\n",
    "\n"
   ]
  },
  {
   "cell_type": "code",
   "execution_count": 957,
   "metadata": {},
   "outputs": [],
   "source": [
    "transpo_mhi_age = pd.merge(transpo_mhi,df_age_simplified,  on= \"geoid_join\" )\n"
   ]
  },
  {
   "cell_type": "code",
   "execution_count": 958,
   "metadata": {},
   "outputs": [],
   "source": [
    "# Join the census data to Tigerline Cartographic Boundary census tract geometries. \n",
    "# Census Tract Tigerline California Census Tracts location (ftp url included in notes below)\n",
    "\n",
    "census_tracts_shp = '/Users/calvindechicago/PycharmProjects/AltaWork/automated_census_mapping/cb_2018_06_tract_500k/cb_2018_06_tract_500k.shp'\n",
    "# Verify that filepath is correct\n",
    "os.path.isfile(census_tracts_shp)\n",
    "\n",
    "#This reads the census tracts shapefile into a geodataframe\n",
    "gdf = gpd.read_file(census_tracts_shp)\n",
    "\n",
    "#Make tigerline boundary columns lowercase\n",
    "gdf.columns = map(str.lower, gdf.columns)\n"
   ]
  },
  {
   "cell_type": "code",
   "execution_count": 959,
   "metadata": {},
   "outputs": [],
   "source": [
    "final_equity_geom = gdf.merge(transpo_mhi_age,left_on='geoid',right_on='geoid_join')\n"
   ]
  },
  {
   "cell_type": "code",
   "execution_count": 960,
   "metadata": {},
   "outputs": [
    {
     "name": "stdout",
     "output_type": "stream",
     "text": [
      "<class 'geopandas.geodataframe.GeoDataFrame'>\n"
     ]
    }
   ],
   "source": [
    "print(type(final_equity_geom))"
   ]
  },
  {
   "cell_type": "code",
   "execution_count": 961,
   "metadata": {},
   "outputs": [],
   "source": [
    "#final_equity_geom.dtypes"
   ]
  },
  {
   "cell_type": "code",
   "execution_count": 962,
   "metadata": {},
   "outputs": [],
   "source": [
    "calenviroscreen = '/Users/calvindechicago/PycharmProjects/AltaWork/automated_census_mapping/CESJune2018Update_SHP/CES3June2018Update.shp'\n",
    "\n",
    "#This reads the CalEnviroScreen tracts shapefile into a geodataframe\n",
    "ces_gdf = gpd.read_file(calenviroscreen)\n"
   ]
  },
  {
   "cell_type": "code",
   "execution_count": 963,
   "metadata": {},
   "outputs": [
    {
     "data": {
      "text/plain": [
       "<Geographic 2D CRS: EPSG:4269>\n",
       "Name: NAD83\n",
       "Axis Info [ellipsoidal]:\n",
       "- Lat[north]: Geodetic latitude (degree)\n",
       "- Lon[east]: Geodetic longitude (degree)\n",
       "Area of Use:\n",
       "- name: North America - NAD83\n",
       "- bounds: (167.65, 14.92, -47.74, 86.46)\n",
       "Datum: North American Datum 1983\n",
       "- Ellipsoid: GRS 1980\n",
       "- Prime Meridian: Greenwich"
      ]
     },
     "execution_count": 963,
     "metadata": {},
     "output_type": "execute_result"
    }
   ],
   "source": [
    "final_equity_geom.crs"
   ]
  },
  {
   "cell_type": "code",
   "execution_count": 964,
   "metadata": {},
   "outputs": [
    {
     "data": {
      "text/plain": [
       "Index(['tract', 'pop2010', 'California', 'ZIP', 'City', 'Longitude',\n",
       "       'Latitude', 'CIscore', 'CIscoreP', 'ozone', 'ozoneP', 'pm', 'pmP',\n",
       "       'diesel', 'dieselP', 'drink', 'drinkP', 'pest', 'pestP', 'RSEIhaz',\n",
       "       'RSEIhazP', 'traffic', 'trafficP', 'cleanups', 'cleanupsP', 'gwthreats',\n",
       "       'gwthreatsP', 'haz', 'hazP', 'iwb', 'iwbP', 'swis', 'swisP',\n",
       "       'Pollution', 'PollutionS', 'PollutionP', 'asthma', 'asthmaP', 'lbw',\n",
       "       'lbwP', 'cvd', 'cvdP', 'edu', 'eduP', 'ling', 'lingP', 'pov', 'povP',\n",
       "       'unemp', 'unempP', 'housingB', 'housingBP', 'PopChar', 'PopCharSco',\n",
       "       'PopCharP', 'Children_u', 'Pop_11_64_', 'Elderly_ov', 'Hispanic_p',\n",
       "       'White_pct', 'African_Am', 'Native_Ame', 'Asian_Amer', 'Other_pct',\n",
       "       'OBJECTID_1', 'CIdecile', 'CIvigintil', 'Shape_Leng', 'Shape_Area',\n",
       "       'CES2018_Rn', 'geometry'],\n",
       "      dtype='object')"
      ]
     },
     "execution_count": 964,
     "metadata": {},
     "output_type": "execute_result"
    }
   ],
   "source": [
    "ces_gdf.columns"
   ]
  },
  {
   "cell_type": "code",
   "execution_count": 965,
   "metadata": {},
   "outputs": [],
   "source": [
    "#Convert weird CES tract id floats to ints. \n",
    "ces_gdf.tract = ces_gdf.tract.astype(int)"
   ]
  },
  {
   "cell_type": "code",
   "execution_count": 966,
   "metadata": {},
   "outputs": [],
   "source": [
    "#Now convert new and cleaner integers to strings\n",
    "ces_gdf.tract = ces_gdf.tract.astype(str)"
   ]
  },
  {
   "cell_type": "code",
   "execution_count": 967,
   "metadata": {},
   "outputs": [],
   "source": [
    "#Append 0 to beginning of each tract id\n",
    "ces_gdf.tract = '0' + ces_gdf.tract"
   ]
  },
  {
   "cell_type": "code",
   "execution_count": 968,
   "metadata": {},
   "outputs": [
    {
     "data": {
      "text/plain": [
       "0       06083002103\n",
       "1       06083002402\n",
       "2       06083002102\n",
       "3       06083002010\n",
       "4       06083002009\n",
       "           ...     \n",
       "8030    06037430302\n",
       "8031    06037430723\n",
       "8032    06037431100\n",
       "8033    06037533603\n",
       "8034    06037534101\n",
       "Name: tract, Length: 8035, dtype: object"
      ]
     },
     "execution_count": 968,
     "metadata": {},
     "output_type": "execute_result"
    }
   ],
   "source": [
    "ces_gdf.tract"
   ]
  },
  {
   "cell_type": "code",
   "execution_count": 969,
   "metadata": {},
   "outputs": [],
   "source": [
    "ces_gdf_simplified = ces_gdf[['tract','CIscore', 'CIscoreP']]"
   ]
  },
  {
   "cell_type": "code",
   "execution_count": 970,
   "metadata": {},
   "outputs": [
    {
     "data": {
      "text/plain": [
       "<matplotlib.axes._subplots.AxesSubplot at 0x7f909dff01d0>"
      ]
     },
     "execution_count": 970,
     "metadata": {},
     "output_type": "execute_result"
    },
    {
     "data": {
      "image/png": "[encoded data removed]",
      "text/plain": [
       "<Figure size 432x288 with 1 Axes>"
      ]
     },
     "metadata": {
      "needs_background": "light"
     },
     "output_type": "display_data"
    }
   ],
   "source": [
    "final_equity_geom.plot()"
   ]
  },
  {
   "cell_type": "code",
   "execution_count": 971,
   "metadata": {},
   "outputs": [],
   "source": [
    "#final_equity_geom = gdf.merge(transpo_mhi_age,left_on='geoid',right_on='geoid_join')\n",
    "\n",
    "\n",
    "final_equity_output = final_equity_geom.merge(ces_gdf_simplified, left_on='geoid_join', right_on='tract')\n"
   ]
  },
  {
   "cell_type": "code",
   "execution_count": 972,
   "metadata": {},
   "outputs": [
    {
     "name": "stdout",
     "output_type": "stream",
     "text": [
      "<class 'geopandas.geodataframe.GeoDataFrame'>\n"
     ]
    }
   ],
   "source": [
    "print(type(final_equity_output))"
   ]
  },
  {
   "cell_type": "code",
   "execution_count": 973,
   "metadata": {},
   "outputs": [
    {
     "data": {
      "text/html": [
       "<div>\n",
       "<style scoped>\n",
       "    .dataframe tbody tr th:only-of-type {\n",
       "        vertical-align: middle;\n",
       "    }\n",
       "\n",
       "    .dataframe tbody tr th {\n",
       "        vertical-align: top;\n",
       "    }\n",
       "\n",
       "    .dataframe thead th {\n",
       "        text-align: right;\n",
       "    }\n",
       "</style>\n",
       "<table border=\"1\" class=\"dataframe\">\n",
       "  <thead>\n",
       "    <tr style=\"text-align: right;\">\n",
       "      <th></th>\n",
       "      <th>statefp</th>\n",
       "      <th>countyfp</th>\n",
       "      <th>tractce</th>\n",
       "      <th>affgeoid</th>\n",
       "      <th>geoid_x</th>\n",
       "      <th>name</th>\n",
       "      <th>lsad</th>\n",
       "      <th>aland</th>\n",
       "      <th>awater</th>\n",
       "      <th>geometry</th>\n",
       "      <th>...</th>\n",
       "      <th>total_pop</th>\n",
       "      <th>age_18_under</th>\n",
       "      <th>age_65_over</th>\n",
       "      <th>age_vulnerable</th>\n",
       "      <th>pct_age_18_under</th>\n",
       "      <th>pct_age_65_over</th>\n",
       "      <th>pct_age_vulnerable</th>\n",
       "      <th>tract_y</th>\n",
       "      <th>CIscore</th>\n",
       "      <th>CIscoreP</th>\n",
       "    </tr>\n",
       "  </thead>\n",
       "  <tbody>\n",
       "    <tr>\n",
       "      <th>0</th>\n",
       "      <td>06</td>\n",
       "      <td>013</td>\n",
       "      <td>303102</td>\n",
       "      <td>1400000US06013303102</td>\n",
       "      <td>06013303102</td>\n",
       "      <td>3031.02</td>\n",
       "      <td>CT</td>\n",
       "      <td>6507019</td>\n",
       "      <td>0</td>\n",
       "      <td>POLYGON ((-121.72937 37.96884, -121.71409 37.9...</td>\n",
       "      <td>...</td>\n",
       "      <td>9218</td>\n",
       "      <td>2737</td>\n",
       "      <td>899</td>\n",
       "      <td>3636</td>\n",
       "      <td>29.691907</td>\n",
       "      <td>9.752658</td>\n",
       "      <td>39.444565</td>\n",
       "      <td>06013303102</td>\n",
       "      <td>23.72</td>\n",
       "      <td>47</td>\n",
       "    </tr>\n",
       "    <tr>\n",
       "      <th>1</th>\n",
       "      <td>06</td>\n",
       "      <td>013</td>\n",
       "      <td>303202</td>\n",
       "      <td>1400000US06013303202</td>\n",
       "      <td>06013303202</td>\n",
       "      <td>3032.02</td>\n",
       "      <td>CT</td>\n",
       "      <td>3725528</td>\n",
       "      <td>0</td>\n",
       "      <td>POLYGON ((-121.72346 37.96161, -121.71672 37.9...</td>\n",
       "      <td>...</td>\n",
       "      <td>7294</td>\n",
       "      <td>2093</td>\n",
       "      <td>569</td>\n",
       "      <td>2662</td>\n",
       "      <td>28.694818</td>\n",
       "      <td>7.800932</td>\n",
       "      <td>36.495750</td>\n",
       "      <td>06013303202</td>\n",
       "      <td>18.67</td>\n",
       "      <td>35</td>\n",
       "    </tr>\n",
       "    <tr>\n",
       "      <th>2</th>\n",
       "      <td>06</td>\n",
       "      <td>013</td>\n",
       "      <td>303203</td>\n",
       "      <td>1400000US06013303203</td>\n",
       "      <td>06013303203</td>\n",
       "      <td>3032.03</td>\n",
       "      <td>CT</td>\n",
       "      <td>6354210</td>\n",
       "      <td>0</td>\n",
       "      <td>POLYGON ((-121.74486 37.95681, -121.74425 37.9...</td>\n",
       "      <td>...</td>\n",
       "      <td>10134</td>\n",
       "      <td>2543</td>\n",
       "      <td>1729</td>\n",
       "      <td>4272</td>\n",
       "      <td>25.093744</td>\n",
       "      <td>17.061378</td>\n",
       "      <td>42.155121</td>\n",
       "      <td>06013303203</td>\n",
       "      <td>23.56</td>\n",
       "      <td>47</td>\n",
       "    </tr>\n",
       "    <tr>\n",
       "      <th>3</th>\n",
       "      <td>06</td>\n",
       "      <td>013</td>\n",
       "      <td>307102</td>\n",
       "      <td>1400000US06013307102</td>\n",
       "      <td>06013307102</td>\n",
       "      <td>3071.02</td>\n",
       "      <td>CT</td>\n",
       "      <td>1603153</td>\n",
       "      <td>0</td>\n",
       "      <td>POLYGON ((-121.82264 37.99713, -121.82220 37.9...</td>\n",
       "      <td>...</td>\n",
       "      <td>5273</td>\n",
       "      <td>1420</td>\n",
       "      <td>743</td>\n",
       "      <td>2163</td>\n",
       "      <td>26.929642</td>\n",
       "      <td>14.090650</td>\n",
       "      <td>41.020292</td>\n",
       "      <td>06013307102</td>\n",
       "      <td>34.12</td>\n",
       "      <td>67</td>\n",
       "    </tr>\n",
       "    <tr>\n",
       "      <th>4</th>\n",
       "      <td>06</td>\n",
       "      <td>013</td>\n",
       "      <td>321101</td>\n",
       "      <td>1400000US06013321101</td>\n",
       "      <td>06013321101</td>\n",
       "      <td>3211.01</td>\n",
       "      <td>CT</td>\n",
       "      <td>4320373</td>\n",
       "      <td>0</td>\n",
       "      <td>POLYGON ((-122.12674 37.99154, -122.12027 37.9...</td>\n",
       "      <td>...</td>\n",
       "      <td>6483</td>\n",
       "      <td>1197</td>\n",
       "      <td>1317</td>\n",
       "      <td>2514</td>\n",
       "      <td>18.463674</td>\n",
       "      <td>20.314669</td>\n",
       "      <td>38.778343</td>\n",
       "      <td>06013321101</td>\n",
       "      <td>16.02</td>\n",
       "      <td>28</td>\n",
       "    </tr>\n",
       "    <tr>\n",
       "      <th>...</th>\n",
       "      <td>...</td>\n",
       "      <td>...</td>\n",
       "      <td>...</td>\n",
       "      <td>...</td>\n",
       "      <td>...</td>\n",
       "      <td>...</td>\n",
       "      <td>...</td>\n",
       "      <td>...</td>\n",
       "      <td>...</td>\n",
       "      <td>...</td>\n",
       "      <td>...</td>\n",
       "      <td>...</td>\n",
       "      <td>...</td>\n",
       "      <td>...</td>\n",
       "      <td>...</td>\n",
       "      <td>...</td>\n",
       "      <td>...</td>\n",
       "      <td>...</td>\n",
       "      <td>...</td>\n",
       "      <td>...</td>\n",
       "      <td>...</td>\n",
       "    </tr>\n",
       "    <tr>\n",
       "      <th>202</th>\n",
       "      <td>06</td>\n",
       "      <td>013</td>\n",
       "      <td>356002</td>\n",
       "      <td>1400000US06013356002</td>\n",
       "      <td>06013356002</td>\n",
       "      <td>3560.02</td>\n",
       "      <td>CT</td>\n",
       "      <td>105954433</td>\n",
       "      <td>5849862</td>\n",
       "      <td>POLYGON ((-122.27936 37.91961, -122.27067 37.9...</td>\n",
       "      <td>...</td>\n",
       "      <td>5438</td>\n",
       "      <td>885</td>\n",
       "      <td>1048</td>\n",
       "      <td>1933</td>\n",
       "      <td>16.274366</td>\n",
       "      <td>19.271791</td>\n",
       "      <td>35.546157</td>\n",
       "      <td>06013356002</td>\n",
       "      <td>11.51</td>\n",
       "      <td>16</td>\n",
       "    </tr>\n",
       "    <tr>\n",
       "      <th>203</th>\n",
       "      <td>06</td>\n",
       "      <td>013</td>\n",
       "      <td>335000</td>\n",
       "      <td>1400000US06013335000</td>\n",
       "      <td>06013335000</td>\n",
       "      <td>3350</td>\n",
       "      <td>CT</td>\n",
       "      <td>1798307</td>\n",
       "      <td>0</td>\n",
       "      <td>POLYGON ((-122.03379 37.97424, -122.03158 37.9...</td>\n",
       "      <td>...</td>\n",
       "      <td>3429</td>\n",
       "      <td>572</td>\n",
       "      <td>495</td>\n",
       "      <td>1067</td>\n",
       "      <td>16.681248</td>\n",
       "      <td>14.435696</td>\n",
       "      <td>31.116944</td>\n",
       "      <td>06013335000</td>\n",
       "      <td>11.62</td>\n",
       "      <td>16</td>\n",
       "    </tr>\n",
       "    <tr>\n",
       "      <th>204</th>\n",
       "      <td>06</td>\n",
       "      <td>013</td>\n",
       "      <td>336201</td>\n",
       "      <td>1400000US06013336201</td>\n",
       "      <td>06013336201</td>\n",
       "      <td>3362.01</td>\n",
       "      <td>CT</td>\n",
       "      <td>1256563</td>\n",
       "      <td>0</td>\n",
       "      <td>POLYGON ((-122.05390 37.95307, -122.05350 37.9...</td>\n",
       "      <td>...</td>\n",
       "      <td>3966</td>\n",
       "      <td>1012</td>\n",
       "      <td>808</td>\n",
       "      <td>1820</td>\n",
       "      <td>25.516894</td>\n",
       "      <td>20.373172</td>\n",
       "      <td>45.890066</td>\n",
       "      <td>06013336201</td>\n",
       "      <td>26.05</td>\n",
       "      <td>52</td>\n",
       "    </tr>\n",
       "    <tr>\n",
       "      <th>205</th>\n",
       "      <td>06</td>\n",
       "      <td>013</td>\n",
       "      <td>360200</td>\n",
       "      <td>1400000US06013360200</td>\n",
       "      <td>06013360200</td>\n",
       "      <td>3602</td>\n",
       "      <td>CT</td>\n",
       "      <td>2245678</td>\n",
       "      <td>0</td>\n",
       "      <td>POLYGON ((-122.30944 37.96687, -122.30746 37.9...</td>\n",
       "      <td>...</td>\n",
       "      <td>4843</td>\n",
       "      <td>792</td>\n",
       "      <td>989</td>\n",
       "      <td>1781</td>\n",
       "      <td>16.353500</td>\n",
       "      <td>20.421227</td>\n",
       "      <td>36.774726</td>\n",
       "      <td>06013360200</td>\n",
       "      <td>12.74</td>\n",
       "      <td>19</td>\n",
       "    </tr>\n",
       "    <tr>\n",
       "      <th>206</th>\n",
       "      <td>06</td>\n",
       "      <td>013</td>\n",
       "      <td>333102</td>\n",
       "      <td>1400000US06013333102</td>\n",
       "      <td>06013333102</td>\n",
       "      <td>3331.02</td>\n",
       "      <td>CT</td>\n",
       "      <td>1955074</td>\n",
       "      <td>0</td>\n",
       "      <td>POLYGON ((-121.96710 37.95949, -121.96458 37.9...</td>\n",
       "      <td>...</td>\n",
       "      <td>4402</td>\n",
       "      <td>833</td>\n",
       "      <td>738</td>\n",
       "      <td>1571</td>\n",
       "      <td>18.923217</td>\n",
       "      <td>16.765107</td>\n",
       "      <td>35.688323</td>\n",
       "      <td>06013333102</td>\n",
       "      <td>12.28</td>\n",
       "      <td>18</td>\n",
       "    </tr>\n",
       "  </tbody>\n",
       "</table>\n",
       "<p>207 rows × 39 columns</p>\n",
       "</div>"
      ],
      "text/plain": [
       "    statefp countyfp tractce              affgeoid      geoid_x     name lsad  \\\n",
       "0        06      013  303102  1400000US06013303102  06013303102  3031.02   CT   \n",
       "1        06      013  303202  1400000US06013303202  06013303202  3032.02   CT   \n",
       "2        06      013  303203  1400000US06013303203  06013303203  3032.03   CT   \n",
       "3        06      013  307102  1400000US06013307102  06013307102  3071.02   CT   \n",
       "4        06      013  321101  1400000US06013321101  06013321101  3211.01   CT   \n",
       "..      ...      ...     ...                   ...          ...      ...  ...   \n",
       "202      06      013  356002  1400000US06013356002  06013356002  3560.02   CT   \n",
       "203      06      013  335000  1400000US06013335000  06013335000     3350   CT   \n",
       "204      06      013  336201  1400000US06013336201  06013336201  3362.01   CT   \n",
       "205      06      013  360200  1400000US06013360200  06013360200     3602   CT   \n",
       "206      06      013  333102  1400000US06013333102  06013333102  3331.02   CT   \n",
       "\n",
       "         aland   awater                                           geometry  \\\n",
       "0      6507019        0  POLYGON ((-121.72937 37.96884, -121.71409 37.9...   \n",
       "1      3725528        0  POLYGON ((-121.72346 37.96161, -121.71672 37.9...   \n",
       "2      6354210        0  POLYGON ((-121.74486 37.95681, -121.74425 37.9...   \n",
       "3      1603153        0  POLYGON ((-121.82264 37.99713, -121.82220 37.9...   \n",
       "4      4320373        0  POLYGON ((-122.12674 37.99154, -122.12027 37.9...   \n",
       "..         ...      ...                                                ...   \n",
       "202  105954433  5849862  POLYGON ((-122.27936 37.91961, -122.27067 37.9...   \n",
       "203    1798307        0  POLYGON ((-122.03379 37.97424, -122.03158 37.9...   \n",
       "204    1256563        0  POLYGON ((-122.05390 37.95307, -122.05350 37.9...   \n",
       "205    2245678        0  POLYGON ((-122.30944 37.96687, -122.30746 37.9...   \n",
       "206    1955074        0  POLYGON ((-121.96710 37.95949, -121.96458 37.9...   \n",
       "\n",
       "     ... total_pop  age_18_under  age_65_over  age_vulnerable  \\\n",
       "0    ...      9218          2737          899            3636   \n",
       "1    ...      7294          2093          569            2662   \n",
       "2    ...     10134          2543         1729            4272   \n",
       "3    ...      5273          1420          743            2163   \n",
       "4    ...      6483          1197         1317            2514   \n",
       "..   ...       ...           ...          ...             ...   \n",
       "202  ...      5438           885         1048            1933   \n",
       "203  ...      3429           572          495            1067   \n",
       "204  ...      3966          1012          808            1820   \n",
       "205  ...      4843           792          989            1781   \n",
       "206  ...      4402           833          738            1571   \n",
       "\n",
       "     pct_age_18_under  pct_age_65_over  pct_age_vulnerable      tract_y  \\\n",
       "0           29.691907         9.752658           39.444565  06013303102   \n",
       "1           28.694818         7.800932           36.495750  06013303202   \n",
       "2           25.093744        17.061378           42.155121  06013303203   \n",
       "3           26.929642        14.090650           41.020292  06013307102   \n",
       "4           18.463674        20.314669           38.778343  06013321101   \n",
       "..                ...              ...                 ...          ...   \n",
       "202         16.274366        19.271791           35.546157  06013356002   \n",
       "203         16.681248        14.435696           31.116944  06013335000   \n",
       "204         25.516894        20.373172           45.890066  06013336201   \n",
       "205         16.353500        20.421227           36.774726  06013360200   \n",
       "206         18.923217        16.765107           35.688323  06013333102   \n",
       "\n",
       "     CIscore  CIscoreP  \n",
       "0      23.72        47  \n",
       "1      18.67        35  \n",
       "2      23.56        47  \n",
       "3      34.12        67  \n",
       "4      16.02        28  \n",
       "..       ...       ...  \n",
       "202    11.51        16  \n",
       "203    11.62        16  \n",
       "204    26.05        52  \n",
       "205    12.74        19  \n",
       "206    12.28        18  \n",
       "\n",
       "[207 rows x 39 columns]"
      ]
     },
     "execution_count": 973,
     "metadata": {},
     "output_type": "execute_result"
    }
   ],
   "source": [
    "final_equity_output"
   ]
  },
  {
   "cell_type": "code",
   "execution_count": 974,
   "metadata": {},
   "outputs": [
    {
     "data": {
      "text/plain": [
       "Index(['statefp', 'countyfp', 'tractce', 'affgeoid', 'geoid', 'name', 'lsad',\n",
       "       'aland', 'awater', 'geometry'],\n",
       "      dtype='object')"
      ]
     },
     "execution_count": 974,
     "metadata": {},
     "output_type": "execute_result"
    }
   ],
   "source": [
    "gdf.columns"
   ]
  },
  {
   "cell_type": "code",
   "execution_count": 975,
   "metadata": {},
   "outputs": [],
   "source": [
    "final_equity_output.to_file(Equity_Tracts)"
   ]
  },
  {
   "cell_type": "code",
   "execution_count": 976,
   "metadata": {},
   "outputs": [
    {
     "data": {
      "text/plain": [
       "<matplotlib.axes._subplots.AxesSubplot at 0x7f909e0152d0>"
      ]
     },
     "execution_count": 976,
     "metadata": {},
     "output_type": "execute_result"
    },
    {
     "data": {
      "image/png": "[encoded data removed]",
      "text/plain": [
       "<Figure size 432x288 with 1 Axes>"
      ]
     },
     "metadata": {
      "needs_background": "light"
     },
     "output_type": "display_data"
    }
   ],
   "source": [
    "final_equity_geom.plot()"
   ]
  },
  {
   "cell_type": "code",
   "execution_count": 977,
   "metadata": {},
   "outputs": [
    {
     "data": {
      "text/html": [
       "<div>\n",
       "<style scoped>\n",
       "    .dataframe tbody tr th:only-of-type {\n",
       "        vertical-align: middle;\n",
       "    }\n",
       "\n",
       "    .dataframe tbody tr th {\n",
       "        vertical-align: top;\n",
       "    }\n",
       "\n",
       "    .dataframe thead th {\n",
       "        text-align: right;\n",
       "    }\n",
       "</style>\n",
       "<table border=\"1\" class=\"dataframe\">\n",
       "  <thead>\n",
       "    <tr style=\"text-align: right;\">\n",
       "      <th></th>\n",
       "      <th>statefp</th>\n",
       "      <th>countyfp</th>\n",
       "      <th>tractce</th>\n",
       "      <th>affgeoid</th>\n",
       "      <th>geoid_x</th>\n",
       "      <th>name</th>\n",
       "      <th>lsad</th>\n",
       "      <th>aland</th>\n",
       "      <th>awater</th>\n",
       "      <th>geometry</th>\n",
       "      <th>...</th>\n",
       "      <th>total_pop</th>\n",
       "      <th>age_18_under</th>\n",
       "      <th>age_65_over</th>\n",
       "      <th>age_vulnerable</th>\n",
       "      <th>pct_age_18_under</th>\n",
       "      <th>pct_age_65_over</th>\n",
       "      <th>pct_age_vulnerable</th>\n",
       "      <th>tract_y</th>\n",
       "      <th>CIscore</th>\n",
       "      <th>CIscoreP</th>\n",
       "    </tr>\n",
       "  </thead>\n",
       "  <tbody>\n",
       "  </tbody>\n",
       "</table>\n",
       "<p>0 rows × 39 columns</p>\n",
       "</div>"
      ],
      "text/plain": [
       "Empty GeoDataFrame\n",
       "Columns: [statefp, countyfp, tractce, affgeoid, geoid_x, name, lsad, aland, awater, geometry, place_name, total, total_car_truck_van, car_truck_van_drove_alone, car_truck_van_carpooled, public_transportation, bike, walk, taxi_moto_other, work_from_home, geoid_y, total_workers, no_vehicle, state_code, county, tract_x, geoid_join, pct_no_veh, mhi, total_pop, age_18_under, age_65_over, age_vulnerable, pct_age_18_under, pct_age_65_over, pct_age_vulnerable, tract_y, CIscore, CIscoreP]\n",
       "Index: []\n",
       "\n",
       "[0 rows x 39 columns]"
      ]
     },
     "execution_count": 977,
     "metadata": {},
     "output_type": "execute_result"
    }
   ],
   "source": [
    "#Test that previous join error did not occur. \n",
    "final_equity_output.loc[final_equity_output['geoid_join']=='06001450752']"
   ]
  },
  {
   "cell_type": "code",
   "execution_count": 978,
   "metadata": {},
   "outputs": [
    {
     "data": {
      "text/plain": [
       "0      06013303102\n",
       "1      06013303202\n",
       "2      06013303203\n",
       "3      06013307102\n",
       "4      06013321101\n",
       "          ...     \n",
       "202    06013356002\n",
       "203    06013335000\n",
       "204    06013336201\n",
       "205    06013360200\n",
       "206    06013333102\n",
       "Name: geoid_join, Length: 207, dtype: object"
      ]
     },
     "execution_count": 978,
     "metadata": {},
     "output_type": "execute_result"
    }
   ],
   "source": [
    "final_equity_output['geoid_join']"
   ]
  },
  {
   "cell_type": "code",
   "execution_count": 979,
   "metadata": {},
   "outputs": [],
   "source": [
    "#Export county level dataframes to excel\n",
    "\n",
    "with pd.ExcelWriter(EXCEL_FP) as writer:\n",
    "    df_age_county.to_excel(writer, sheet_name='county_age')\n",
    "    df_transpo_mode_county.to_excel(writer, sheet_name='county_transpo_mode')\n",
    "    df_mhi_county.to_excel(writer, sheet_name='county_mhi')\n",
    "\n",
    "# OTHER EXAMPLES FOUND WHILE TROUBLESHOOTING\n",
    "# with pd.ExcelWriter(\"test.xlsx\", engine='openpyxl', mode='a') as writer:\n",
    "#     df.to_excel(writer)\n",
    "# with pd.ExcelWriter(Excel_FP) as writer:\n",
    "#     bike_crashes_by_year.to_excel(writer, sheet_name='b_crashes_by_year')"
   ]
  },
  {
   "cell_type": "code",
   "execution_count": 980,
   "metadata": {},
   "outputs": [],
   "source": [
    "#SOURCES\n",
    "#https://www.w3schools.com/tags/ref_urlencode.ASP\n",
    "#https://www.census.gov/content/dam/Census/data/developers/api-user-guide/api-guide.pdf\n",
    "#https://api.census.gov/data/2018/acs/acs5/variables.html\n",
    "#https://api.census.gov/data/2018/acs/acs5/subject/variables.html\n",
    "#https://www.youtube.com/watch?v=Wi0_Mb0e4JM\n",
    "#https://atcoordinates.info/2019/09/24/examples-of-using-the-census-bureaus-api-with-python/\n",
    "#--downloading tigerline from zip -- \n",
    "#http://andrewgaidus.com/Dot_Density_County_Maps/\n",
    "#--Python for reading zip tigerline shpfile --\n",
    "#http://andrewgaidus.com/Reading_Zipped_Shapefiles/\n",
    "#--Aaron's ATP Data Mining Project would also be useful--\n",
    "#https://github.com/AltaPlanning/GIS-notebooks/tree/master/2020-000%20ATP%20Data%20Mining\n",
    "#https://automating-gis-processes.github.io/site/notebooks/L5/interactive-map-folium.html\n",
    "\n",
    "#-- geographies and summary levels --\n",
    "#https://censusreporter.org/topics/geography/\n",
    "#geo_ids=140|04000US06  --> this should be a all tracts in California\n",
    "\n",
    "#There is no great way to use the api to return census tract geometries: the geography api functions \n",
    "#only seem to allow calling a specific geoid. One option would be to loop through geoids and call census reporter\n",
    "#to request geography for each geoid, but that would involve a lot of calls. \n",
    "#https://api.censusreporter.org/1.0/data/show/latest?table_ids=B01001&geo_ids=140|04000US06\n",
    "#error\"You requested 8057 geoids. The maximum is 3500. Please contact us for bulk data.\"\n",
    "\n",
    "\n",
    "\n",
    "# MEDIAN EARNINGS IN THE PAST 12 MONTHS (IN 2018 INFLATION-ADJUSTED DOLLARS) BY MEANS OF TRANSPORTATION TO WORK\n",
    "# Survey/Program: American Community Survey\n",
    "# Universe: Workers 16 years and over with earnings\n",
    "# Year: 2018\n",
    "# Estimates: 1-Year\n",
    "# Table ID: B08121\n",
    "\n",
    "# ### OTHER NOTES\n",
    "#I was a bit confused about obtaining the Census Tiger boundaries. The Tigerweb REST service seemed geared towards\n",
    "#delivering Web Map Service (WMS) map images. We want the spatial data! Hopefully the stack exchange post linked below\n",
    "#clears some of the confusion up.\n",
    "#https://gis.stackexchange.com/questions/269650/how-to-bring-the-tiger-census-reporter-api-to-geopandas\n",
    "#--->I'm not sure if these geometries still exist on the census api. \n",
    "#zipfiles can be downloaded at the ftp site below. I am using blog and aaron's atp data mining python as examples. \n",
    "#For now I am just going to manually unzip census geometry, but a link to a tutorial is included below to automate\n",
    "#download, unzipping, and processing the geometry. \n",
    "\n",
    "#ftp://ftp2.census.gov/geo/tiger/TIGER2018/TRACT/tl_2018_06_tract.zip\n",
    "\n"
   ]
  }
 ],
 "metadata": {
  "kernelspec": {
   "display_name": "Python 3",
   "language": "python",
   "name": "python3"
  },
  "language_info": {
   "codemirror_mode": {
    "name": "ipython",
    "version": 3
   },
   "file_extension": ".py",
   "mimetype": "text/x-python",
   "name": "python",
   "nbconvert_exporter": "python",
   "pygments_lexer": "ipython3",
   "version": "3.7.6"
  }
 },
 "nbformat": 4,
 "nbformat_minor": 4
}
